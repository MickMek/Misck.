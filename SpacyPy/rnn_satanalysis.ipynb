{
 "cells": [
  {
   "cell_type": "code",
   "execution_count": 14,
   "metadata": {},
   "outputs": [],
   "source": [
    "import pandas as pd\n",
    "import numpy as np\n",
    "import matplotlib.pyplot as plt\n",
    "\n",
    "df = pd.read_csv('rnn_data.csv')"
   ]
  },
  {
   "cell_type": "code",
   "execution_count": 15,
   "metadata": {},
   "outputs": [],
   "source": [
    "# Getting training set\n",
    "dataset_train = df[0:int(0.8*len(df))]\n",
    "\n",
    "# Taking one column, in this case LONGITUDE\n",
    "training_set = dataset_train.iloc[:, [0]].values\n",
    "\n",
    "# Feature Scaling\n",
    "from sklearn.preprocessing import MinMaxScaler\n",
    "sc = MinMaxScaler(feature_range = (0, 1))\n",
    "training_set_scaled = sc.fit_transform(training_set)\n",
    "\n",
    "# Creating a data structure with 60 timesteps and 1 output\n",
    "X_train = []\n",
    "y_train = []\n",
    "for i in range(60, len(training_set)):\n",
    "    X_train.append(training_set_scaled[i-60:i, 0])\n",
    "    y_train.append(training_set_scaled[i, 0])\n",
    "X_train, y_train = np.array(X_train), np.array(y_train)\n",
    "\n",
    "# Reshaping\n",
    "X_train = np.reshape(X_train, (X_train.shape[0], X_train.shape[1], 1))"
   ]
  },
  {
   "cell_type": "code",
   "execution_count": 18,
   "metadata": {},
   "outputs": [
    {
     "name": "stdout",
     "output_type": "stream",
     "text": [
      "Epoch 1/15\n",
      "310/310 [==============================] - 7s 22ms/step - loss: 0.2027\n",
      "Epoch 2/15\n",
      "310/310 [==============================] - 2s 8ms/step - loss: 0.0368\n",
      "Epoch 3/15\n",
      "310/310 [==============================] - 2s 8ms/step - loss: 0.0165\n",
      "Epoch 4/15\n",
      "310/310 [==============================] - 2s 8ms/step - loss: 0.0090\n",
      "Epoch 5/15\n",
      "310/310 [==============================] - 3s 8ms/step - loss: 0.0067\n",
      "Epoch 6/15\n",
      "310/310 [==============================] - 2s 8ms/step - loss: 0.0050\n",
      "Epoch 7/15\n",
      "310/310 [==============================] - 3s 8ms/step - loss: 0.0046\n",
      "Epoch 8/15\n",
      "310/310 [==============================] - 3s 8ms/step - loss: 0.0054\n",
      "Epoch 9/15\n",
      "310/310 [==============================] - 2s 8ms/step - loss: 0.0040\n",
      "Epoch 10/15\n",
      "310/310 [==============================] - 2s 8ms/step - loss: 0.0044\n",
      "Epoch 11/15\n",
      "310/310 [==============================] - 2s 8ms/step - loss: 0.0056\n",
      "Epoch 12/15\n",
      "310/310 [==============================] - 2s 8ms/step - loss: 0.0060\n",
      "Epoch 13/15\n",
      "310/310 [==============================] - 2s 8ms/step - loss: 0.0039\n",
      "Epoch 14/15\n",
      "310/310 [==============================] - 3s 8ms/step - loss: 0.0049\n",
      "Epoch 15/15\n",
      "310/310 [==============================] - 3s 9ms/step - loss: 0.0041\n"
     ]
    },
    {
     "data": {
      "text/plain": [
       "<keras.callbacks.History at 0x1a30a7d400>"
      ]
     },
     "execution_count": 18,
     "metadata": {},
     "output_type": "execute_result"
    }
   ],
   "source": [
    "from keras.models import Sequential\n",
    "from keras.layers import Dense\n",
    "from keras.layers import LSTM\n",
    "from keras.layers import Dropout\n",
    "\n",
    "# Initialising the RNN\n",
    "regressor = Sequential()\n",
    "\n",
    "# Adding the first LSTM layer and some Dropout regularisation\n",
    "regressor.add(LSTM(units = 50, return_sequences = True, input_shape = (X_train.shape[1], 1)))\n",
    "regressor.add(Dropout(0.2))\n",
    "\n",
    "# Adding a second LSTM layer and some Dropout regularisation\n",
    "regressor.add(LSTM(units = 50, return_sequences = True))\n",
    "regressor.add(Dropout(0.2))\n",
    "\n",
    "# Adding a third LSTM layer and some Dropout regularisation\n",
    "regressor.add(LSTM(units = 50, return_sequences = True))\n",
    "regressor.add(Dropout(0.2))\n",
    "\n",
    "# Adding a fourth LSTM layer and some Dropout regularisation\n",
    "regressor.add(LSTM(units = 50))\n",
    "regressor.add(Dropout(0.2))\n",
    "\n",
    "# Adding the output layer\n",
    "regressor.add(Dense(units = 1))\n",
    "\n",
    "# Compiling the RNN\n",
    "regressor.compile(optimizer = 'adam', loss = 'mean_squared_error')\n",
    "\n",
    "# Fitting the RNN to the Training set\n",
    "regressor.fit(X_train, y_train, epochs = 15, batch_size = 32)"
   ]
  },
  {
   "cell_type": "code",
   "execution_count": 19,
   "metadata": {},
   "outputs": [
    {
     "data": {
      "image/png": "[encoded data removed]",
      "text/plain": [
       "<Figure size 432x288 with 1 Axes>"
      ]
     },
     "metadata": {},
     "output_type": "display_data"
    }
   ],
   "source": [
    "# Getting test data\n",
    "dataset_test = df[int(0.8*len(df)):len(df)+1]\n",
    "testing_set = dataset_test.iloc[:, [0]].values\n",
    "\n",
    "# Feature Scaling\n",
    "from sklearn.preprocessing import MinMaxScaler\n",
    "sc = MinMaxScaler(feature_range = (0, 1))\n",
    "testing_set_scaled = sc.fit_transform(testing_set)\n",
    "\n",
    "# Creating a data structure with 60 timesteps and 1 output\n",
    "X_test = []\n",
    "y_test = []\n",
    "for i in range(60, len(testing_set)):\n",
    "    X_test.append(testing_set_scaled[i-60:i, 0])\n",
    "    y_test.append(testing_set_scaled[i, 0])\n",
    "X_test, y_test = np.array(X_test), np.array(y_test)\n",
    "\n",
    "# Reshaping\n",
    "X_test = np.reshape(X_test, (X_test.shape[0], X_test.shape[1], 1))\n",
    "predicted_position = regressor.predict(X_test)\n",
    "predicted_position = sc.inverse_transform(predicted_position)\n",
    "\n",
    "# Visualising the results\n",
    "plt.plot(testing_set, color = 'red', label = 'Real Position')\n",
    "plt.plot(predicted_position, color = 'blue', label = 'Predicted Position')\n",
    "plt.title('Satellite Predicted Position')\n",
    "plt.xlabel('Time')\n",
    "plt.ylabel('Satelite Actual Position')\n",
    "plt.legend()\n",
    "plt.show()"
   ]
  },
  {
   "cell_type": "code",
   "execution_count": null,
   "metadata": {},
   "outputs": [],
   "source": []
  },
  {
   "cell_type": "code",
   "execution_count": null,
   "metadata": {},
   "outputs": [],
   "source": []
  },
  {
   "cell_type": "code",
   "execution_count": null,
   "metadata": {},
   "outputs": [],
   "source": []
  }
 ],
 "metadata": {
  "kernelspec": {
   "display_name": "Python 3",
   "language": "python",
   "name": "python3"
  },
  "language_info": {
   "codemirror_mode": {
    "name": "ipython",
    "version": 3
   },
   "file_extension": ".py",
   "mimetype": "text/x-python",
   "name": "python",
   "nbconvert_exporter": "python",
   "pygments_lexer": "ipython3",
   "version": "3.6.7"
  }
 },
 "nbformat": 4,
 "nbformat_minor": 2
}
