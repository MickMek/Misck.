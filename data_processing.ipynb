{
 "cells": [
  {
   "cell_type": "markdown",
   "metadata": {},
   "source": [
    "### Paintings Data Prepocessing for good CNN training set"
   ]
  },
  {
   "cell_type": "code",
   "execution_count": null,
   "metadata": {},
   "outputs": [],
   "source": [
    "# Python3 code to rename multiple files in a directory or folder \n",
    "import os\n",
    "FOLDER_DIR = \"ukiyoe\"\n",
    "\n",
    "def main(): \n",
    "    i = 0\n",
    "      \n",
    "    for filename in os.listdir(f\"{FOLDER_DIR}\"): \n",
    "        if filename.endswith(\".jpg\"):\n",
    "            dst =\"ukiyoe\" + str(i) + \".jpg\"\n",
    "        elif filename.endswith(\".jpeg\"):\n",
    "            dst =\"ukiyoe\" + str(i) + \".jpeg\"\n",
    "        else:\n",
    "            continue\n",
    "        src =f'{FOLDER_DIR}/'+ filename \n",
    "        dst =f'{FOLDER_DIR}/'+ dst \n",
    "\n",
    "        os.rename(src, dst) \n",
    "        i += 1\n",
    "\n",
    "# Driver Code \n",
    "if __name__ == '__main__': \n",
    "      \n",
    "    # Calling main() function \n",
    "    main() "
   ]
  },
  {
   "cell_type": "markdown",
   "metadata": {},
   "source": [
    "### CSV Creator for training set inventory"
   ]
  },
  {
   "cell_type": "code",
   "execution_count": 1,
   "metadata": {},
   "outputs": [
    {
     "data": {
      "text/plain": [
       "'\\nImage,Rating\\n./Pop Art-Surrealism/test(18).jpg,8\\n./Pop Art-Surrealism/test(8).jpg,8\\n'"
      ]
     },
     "execution_count": 1,
     "metadata": {},
     "output_type": "execute_result"
    }
   ],
   "source": [
    "# train.csv sample\n",
    "\"\"\"\n",
    "Image,Rating\n",
    "./Pop Art-Surrealism/test(18).jpg,8\n",
    "./Pop Art-Surrealism/test(8).jpg,8\n",
    "\n",
    "Abstract_Expressionism: 1\n",
    "Baroque: 2\n",
    "High_Renaissance: 3\n",
    "Impressionism: 4\n",
    "NeoClassical: 5\n",
    "Oriental: 6\n",
    "Realism: 7\n",
    "Rococo: 8\n",
    "Romantic: 9\n",
    "ukiyoe: 10\n",
    "Modern: 11\n",
    "\"\"\""
   ]
  },
  {
   "cell_type": "code",
   "execution_count": 1,
   "metadata": {},
   "outputs": [],
   "source": [
    "import os\n",
    "FOLDER_DIR = \"Modern\"\n",
    "\n",
    "def main():\n",
    "    csvname = \"train.csv\"\n",
    "    f = open(csvname, 'a+')\n",
    "    for filename in os.listdir(f\"{FOLDER_DIR}\"):\n",
    "        f.write(f\"./{FOLDER_DIR}/{filename},11 \\n\")\n",
    "    f.close()\n",
    "\n",
    "# Driver Code \n",
    "if __name__ == '__main__': \n",
    "      \n",
    "    # Calling main() function \n",
    "    main() "
   ]
  },
  {
   "cell_type": "code",
   "execution_count": null,
   "metadata": {},
   "outputs": [],
   "source": []
  },
  {
   "cell_type": "code",
   "execution_count": null,
   "metadata": {},
   "outputs": [],
   "source": []
  },
  {
   "cell_type": "code",
   "execution_count": null,
   "metadata": {},
   "outputs": [],
   "source": []
  },
  {
   "cell_type": "code",
   "execution_count": null,
   "metadata": {},
   "outputs": [],
   "source": []
  },
  {
   "cell_type": "code",
   "execution_count": null,
   "metadata": {},
   "outputs": [],
   "source": []
  }
 ],
 "metadata": {
  "kernelspec": {
   "display_name": "Python 3",
   "language": "python",
   "name": "python3"
  },
  "language_info": {
   "codemirror_mode": {
    "name": "ipython",
    "version": 3
   },
   "file_extension": ".py",
   "mimetype": "text/x-python",
   "name": "python",
   "nbconvert_exporter": "python",
   "pygments_lexer": "ipython3",
   "version": "3.6.5"
  }
 },
 "nbformat": 4,
 "nbformat_minor": 2
}
