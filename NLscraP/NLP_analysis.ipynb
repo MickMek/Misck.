{
 "cells": [
  {
   "cell_type": "markdown",
   "metadata": {},
   "source": [
    "## NLP for News Website Articles Topic Modelling\n",
    "\n",
    "The scrapper contained in the folder will crawl the web by parsing a csv file with urls. The scrapper will provide us with a csv file containing the url,website title and description for each url in the original csv. \n",
    "For this project, we obtained a list of urls to articles' websites. This notebook performs NLP on the output dataset from the scrapper, and consists of:\n",
    "\n",
    "1) Topic Modelling with LDA:\n",
    "\n",
    "- Aimed at constructing a good dictionary by extracting all possible vocabularies/words from the dataset and remove those that are not relevant/informative (e.g., the infrequent words). \n",
    "\n",
    "- For url, given \"www.lachainemeteo.com/meteo-france/ville-6560/previsions-meteo-bordeaux-aujourdhui\" the following words can be extracted: lachainemeteo (or www.lachainemeteo.com), meteo-france, ville, prevision, meteo, bordeaux.\n",
    "\n",
    "- Built a first/baseline model/method using LDA (Latent Dirichlet Allocation from the Gensim library) to find the topics from the constructed dictionary. An important aspect is properly defining the number of topics for LDA.\n",
    "\n",
    "- Applied LDA to both titles and descriptions of the websites seperately. Finally, we combine all columns containing description, title and url to construct the dictionary and apply LDA. We then minimize topic coherence metrics vs. Topics number in LDA to find the best number of topics\n",
    "\n",
    "2) Improving Baseline model:\n",
    "\n",
    "To find the best number of topics, we have used two methods:\n",
    "    - Calculated topic coherence for several number of topics to obtain optimal number of topics\n",
    "    - Clustered embedding with K-means and used the elbow method to find optimal number of clusters\n",
    "\n",
    "- For titles, used LSA to obtain SVD_matrix, performed k-means clustering on vectors representations, and applied LDA on each cluster to define 1 topic per cluster \n",
    "\n",
    "- For descriptions, implemented word2vec, performed k-means clustering on vectors representations, applied TF/IDF and other preprocessing techniques to keep only useful words (specially for descriptions), and applied LDA on each cluster to define 1 topic per cluster \n"
   ]
  },
  {
   "cell_type": "code",
   "execution_count": 1,
   "metadata": {},
   "outputs": [],
   "source": [
    "#Preprocessing URL data and creating data2.csv\n",
    "import pandas as pd\n",
    "\n",
    "df = pd.read_csv(\"scrapy_url/scrapped_url.csv\", delimiter=\",\")\n",
    "df = df.dropna(subset=['title', 'description']).drop(columns=\"Unnamed: 3\")\n",
    "\n",
    "for i in range(0,len(df)):\n",
    "    # taking care of www., .com, http and https.. and tokenizing\n",
    "    if df.iloc[i,0][4]==\"s\":\n",
    "        df.iloc[i,0] = str(df.iloc[i,0][8:]).replace(\"www.\",\"\").replace(\".comment\",\". comment\").replace(\".madame\",\". madame\").replace(\".com\",\"\").replace(\".php\",\"\").replace(\".fr\",\"\").replace(\".html\",\"\").replace(\".\",\" \").replace(\"-\",\" \").replace(\"0\",\"\").replace(\"1\",\"\").replace(\"2\",\"\").replace(\"3\",\"\").replace(\"4\",\"\").replace(\"5\",\"\").replace(\"6\",\"\").replace(\"7\",\"\").replace(\"8\",\"\").replace(\"9\",\"\").strip().split(\"/\")\n",
    "        df.iloc[i,0] = str(\" \".join(df.iloc[i,0]).strip().replace(\"     \",\" \").replace(\"  \",\" \").lower().replace(\" artfig\",\"\")).split(\" \")\n",
    "    else:\n",
    "        df.iloc[i,0] = str(df.iloc[i,0][7:]).replace(\"www.\",\"\").replace(\".comment\",\". comment\").replace(\".madame\",\". madame\").replace(\".com\",\"\").replace(\".php\",\"\").replace(\".fr\",\"\").replace(\".html\",\"\").replace(\".\",\" \").replace(\"-\",\" \").replace(\"0\",\"\").replace(\"1\",\"\").replace(\"2\",\"\").replace(\"3\",\"\").replace(\"4\",\"\").replace(\"5\",\"\").replace(\"6\",\"\").replace(\"7\",\"\").replace(\"8\",\"\").replace(\"9\",\"\").strip().split(\"/\")\n",
    "        df.iloc[i,0] = str(\" \".join(df.iloc[i,0]).strip().replace(\"     \",\" \").replace(\"  \",\" \").lower().replace(\" artfig\",\"\")).split(\" \")\n",
    "\n",
    "df.to_csv(\"data2.csv\")"
   ]
  },
  {
   "cell_type": "markdown",
   "metadata": {},
   "source": [
    "### Baseline Model: Analysing URLs with LDA"
   ]
  },
  {
   "cell_type": "code",
   "execution_count": 2,
   "metadata": {},
   "outputs": [],
   "source": [
    "import gensim\n",
    "import pandas as pd\n",
    "from gensim import corpora\n",
    "import pickle\n",
    "\n",
    "df = pd.read_csv(\"data2.csv\")\n",
    "unallowed_words = [\"lefigaro\",\"figaro\",\"linternaute\",\"commentcamarche\",\"journaldunet\",\"lachainemeteo\",\"linternaute\"]\n",
    "\n",
    "def preprocess(text):\n",
    "    result = []\n",
    "    for token in gensim.utils.simple_preprocess(text):\n",
    "        if token not in gensim.parsing.preprocessing.STOPWORDS and len(token) > 3 and token not in unallowed_words:\n",
    "            result.append(token)\n",
    "    return result\n",
    "\n",
    "processed_url = df['url_clean'].map(preprocess)\n",
    "processed_url\n",
    "\n",
    "dictionary = corpora.Dictionary(processed_url)\n",
    "corpus = [dictionary.doc2bow(text) for text in processed_url]\n",
    "\n",
    "#pickle.dump(corpus, open('corpus.pkl', 'wb'))\n",
    "#dictionary.save('dictionary.gensim')\n",
    "\n",
    "NUM_TOPICS = 9\n",
    "ldamodel = gensim.models.ldamodel.LdaModel(corpus, num_topics = NUM_TOPICS, id2word=dictionary, passes=15)\n",
    "#ldamodel.save(f\"model{NUM_TOPICS}.gensim\")"
   ]
  },
  {
   "cell_type": "code",
   "execution_count": 3,
   "metadata": {},
   "outputs": [
    {
     "name": "stdout",
     "output_type": "stream",
     "text": [
      "Topic: 0 \n",
      "Words: 0.120*\"forum\" + 0.117*\"affich\" + 0.032*\"comment\" + 0.027*\"finances\" + 0.027*\"droit\" + 0.011*\"pour\" + 0.011*\"bricolage\" + 0.010*\"faire\" + 0.008*\"votre\" + 0.008*\"cuisiner\"\n",
      "Topic: 1 \n",
      "Words: 0.056*\"meteo\" + 0.031*\"ville\" + 0.026*\"previsions\" + 0.025*\"france\" + 0.024*\"ticketac\" + 0.024*\"aujourdhui\" + 0.019*\"cinema\" + 0.019*\"hugolescargot\" + 0.018*\"spectacles\" + 0.018*\"news\"\n",
      "Topic: 2 \n",
      "Words: 0.071*\"madame\" + 0.061*\"sport\" + 0.030*\"celebrites\" + 0.025*\"societe\" + 0.021*\"scan\" + 0.021*\"actualite\" + 0.018*\"bien\" + 0.015*\"etre\" + 0.014*\"photos\" + 0.011*\"pour\"\n",
      "Topic: 3 \n",
      "Words: 0.032*\"article\" + 0.031*\"madame\" + 0.030*\"style\" + 0.029*\"pour\" + 0.028*\"conseils\" + 0.019*\"editorial\" + 0.019*\"cadremploi\" + 0.018*\"deco\" + 0.017*\"beaute\" + 0.014*\"finances\"\n",
      "Topic: 4 \n",
      "Words: 0.035*\"meghan\" + 0.031*\"markle\" + 0.012*\"mort\" + 0.010*\"dans\" + 0.010*\"deux\" + 0.009*\"chocolat\" + 0.009*\"voyage\" + 0.007*\"examens\" + 0.006*\"tennis\" + 0.006*\"pourquoi\"\n",
      "Topic: 5 \n",
      "Words: 0.065*\"cuisine\" + 0.060*\"madame\" + 0.037*\"recettes\" + 0.036*\"recette\" + 0.033*\"etudiant\" + 0.015*\"prince\" + 0.013*\"celebrites\" + 0.013*\"gastronomie\" + 0.012*\"article\" + 0.011*\"harry\"\n",
      "Topic: 6 \n",
      "Words: 0.072*\"video\" + 0.065*\"immobilier\" + 0.049*\"article\" + 0.013*\"plus\" + 0.012*\"paris\" + 0.010*\"pour\" + 0.010*\"guide\" + 0.010*\"vous\" + 0.010*\"management\" + 0.009*\"annonces\"\n",
      "Topic: 7 \n",
      "Words: 0.126*\"sante\" + 0.033*\"article\" + 0.031*\"fiche\" + 0.031*\"questionnaire\" + 0.027*\"medecine\" + 0.026*\"weekend\" + 0.013*\"definition\" + 0.012*\"sont\" + 0.011*\"maladies\" + 0.010*\"symptomes\"\n",
      "Topic: 8 \n",
      "Words: 0.028*\"television\" + 0.018*\"code\" + 0.018*\"auto\" + 0.017*\"stars\" + 0.016*\"images\" + 0.016*\"match\" + 0.016*\"promo\" + 0.016*\"people\" + 0.016*\"codespromo\" + 0.015*\"magazine\"\n"
     ]
    }
   ],
   "source": [
    "for idx, topic in ldamodel.print_topics(-1):\n",
    "    print('Topic: {} \\nWords: {}'.format(idx, topic))"
   ]
  },
  {
   "cell_type": "code",
   "execution_count": 4,
   "metadata": {},
   "outputs": [
    {
     "name": "stdout",
     "output_type": "stream",
     "text": [
      "(0, '0.120*\"forum\"')\n",
      "(1, '0.056*\"meteo\"')\n",
      "(2, '0.071*\"madame\"')\n",
      "(3, '0.032*\"article\"')\n",
      "(4, '0.035*\"meghan\"')\n",
      "(5, '0.065*\"cuisine\"')\n",
      "(6, '0.072*\"video\"')\n",
      "(7, '0.126*\"sante\"')\n",
      "(8, '0.028*\"television\"')\n"
     ]
    }
   ],
   "source": [
    "topics = ldamodel.print_topics(num_words=1)\n",
    "for topic in topics:\n",
    "    print(topic)"
   ]
  },
  {
   "cell_type": "markdown",
   "metadata": {},
   "source": [
    "## Baseline Model: Analysing Titles with LDA"
   ]
  },
  {
   "cell_type": "code",
   "execution_count": 5,
   "metadata": {},
   "outputs": [],
   "source": [
    "import gensim\n",
    "import pandas as pd\n",
    "from gensim import corpora\n",
    "import pickle\n",
    "\n",
    "df = pd.read_csv(\"data2.csv\")\n",
    "unallowed_words = [\"lefigaro\",\"figaro\",\"linternaute\",\"commentcamarche\",\"journaldunet\",\"lachainemeteo\",\"linternaute\",\"internaute\",\"madame\"]\n",
    "\n",
    "def preprocess(text):\n",
    "    result = []\n",
    "    for token in gensim.utils.simple_preprocess(text):\n",
    "        if token not in gensim.parsing.preprocessing.STOPWORDS and len(token) > 4 and token not in unallowed_words:\n",
    "            result.append(token)\n",
    "    return result\n",
    "\n",
    "processed_url = df['title'].map(preprocess)\n",
    "processed_url\n",
    "\n",
    "dictionary = corpora.Dictionary(processed_url)\n",
    "corpus = [dictionary.doc2bow(text) for text in processed_url]\n",
    "\n",
    "#pickle.dump(corpus, open('corpus.pkl', 'wb'))\n",
    "#dictionary.save('dictionary.gensim')\n",
    "\n",
    "NUM_TOPICS = 9\n",
    "ldamodel = gensim.models.ldamodel.LdaModel(corpus, num_topics = NUM_TOPICS, id2word=dictionary, passes=15)\n",
    "#ldamodel.save(f\"model{NUM_TOPICS}.gensim\")"
   ]
  },
  {
   "cell_type": "code",
   "execution_count": 6,
   "metadata": {},
   "outputs": [
    {
     "name": "stdout",
     "output_type": "stream",
     "text": [
      "Topic: 0 \n",
      "Words: 0.134*\"recette\" + 0.057*\"cuisine\" + 0.038*\"facile\" + 0.016*\"meilleure\" + 0.013*\"maison\" + 0.012*\"idées\" + 0.008*\"prénoms\" + 0.007*\"pommes\" + 0.007*\"digital\" + 0.007*\"kiosque\"\n",
      "Topic: 1 \n",
      "Words: 0.055*\"actualité\" + 0.055*\"sport\" + 0.054*\"temps\" + 0.048*\"sportive\" + 0.020*\"résultat\" + 0.018*\"résolu\" + 0.014*\"tirage\" + 0.010*\"quand\" + 0.009*\"ligne\" + 0.008*\"euros\"\n",
      "Topic: 2 \n",
      "Words: 0.068*\"résolu\" + 0.039*\"santé\" + 0.037*\"médecine\" + 0.015*\"théâtre\" + 0.015*\"comment\" + 0.011*\"contre\" + 0.008*\"cannes\" + 0.008*\"vente\" + 0.008*\"appartements\" + 0.008*\"nouveau\"\n",
      "Topic: 3 \n",
      "Words: 0.026*\"faire\" + 0.020*\"comment\" + 0.019*\"résolu\" + 0.016*\"monde\" + 0.015*\"conjugaison\" + 0.014*\"verbe\" + 0.012*\"macron\" + 0.012*\"promo\" + 0.010*\"people\" + 0.009*\"match\"\n",
      "Topic: 4 \n",
      "Words: 0.023*\"résolu\" + 0.019*\"lettre\" + 0.014*\"comment\" + 0.013*\"modèle\" + 0.013*\"hallyday\" + 0.012*\"femme\" + 0.011*\"gratuit\" + 0.011*\"johnny\" + 0.010*\"logement\" + 0.008*\"découvrez\"\n",
      "Topic: 5 \n",
      "Words: 0.027*\"conseils\" + 0.026*\"comment\" + 0.021*\"santé\" + 0.019*\"fiches\" + 0.017*\"prince\" + 0.017*\"médicaux\" + 0.015*\"définition\" + 0.012*\"quels\" + 0.011*\"photos\" + 0.011*\"résolu\"\n",
      "Topic: 6 \n",
      "Words: 0.063*\"meteo\" + 0.041*\"météo\" + 0.038*\"chaîne\" + 0.037*\"jours\" + 0.034*\"gratuite\" + 0.032*\"prévisions\" + 0.031*\"france\" + 0.010*\"espagne\" + 0.010*\"résumé\" + 0.009*\"vidéo\"\n",
      "Topic: 7 \n",
      "Words: 0.047*\"etudiant\" + 0.018*\"cette\" + 0.016*\"pourquoi\" + 0.014*\"horoscope\" + 0.014*\"france\" + 0.014*\"immobilier\" + 0.013*\"mariage\" + 0.012*\"votre\" + 0.012*\"français\" + 0.012*\"paris\"\n",
      "Topic: 8 \n",
      "Words: 0.024*\"meghan\" + 0.023*\"recettes\" + 0.020*\"cuisine\" + 0.018*\"markle\" + 0.017*\"grand\" + 0.016*\"coloriage\" + 0.015*\"harry\" + 0.014*\"ligne\" + 0.012*\"imprimer\" + 0.012*\"quelle\"\n"
     ]
    }
   ],
   "source": [
    "for idx, topic in ldamodel.print_topics(-1):\n",
    "    print('Topic: {} \\nWords: {}'.format(idx, topic))"
   ]
  },
  {
   "cell_type": "code",
   "execution_count": 7,
   "metadata": {},
   "outputs": [
    {
     "name": "stdout",
     "output_type": "stream",
     "text": [
      "(0, '0.134*\"recette\"')\n",
      "(1, '0.055*\"actualité\"')\n",
      "(2, '0.068*\"résolu\"')\n",
      "(3, '0.026*\"faire\"')\n",
      "(4, '0.023*\"résolu\"')\n",
      "(5, '0.027*\"conseils\"')\n",
      "(6, '0.063*\"meteo\"')\n",
      "(7, '0.047*\"etudiant\"')\n",
      "(8, '0.024*\"meghan\"')\n"
     ]
    }
   ],
   "source": [
    "topics = ldamodel.print_topics(num_words=1)\n",
    "for topic in topics:\n",
    "    print(topic)"
   ]
  },
  {
   "cell_type": "markdown",
   "metadata": {},
   "source": [
    "## Baseline Model: Analysing Descriptions with LDA"
   ]
  },
  {
   "cell_type": "code",
   "execution_count": 8,
   "metadata": {},
   "outputs": [],
   "source": [
    "import gensim\n",
    "import pandas as pd\n",
    "from gensim import corpora\n",
    "import pickle\n",
    "\n",
    "df = pd.read_csv(\"data2.csv\")\n",
    "\n",
    "def preprocess(text):\n",
    "    result = []\n",
    "    for token in gensim.utils.simple_preprocess(text):\n",
    "        if token not in gensim.parsing.preprocessing.STOPWORDS and len(token) > 4:\n",
    "            result.append(token)\n",
    "    return result\n",
    "\n",
    "processed_url = df['description'].map(preprocess)\n",
    "processed_url\n",
    "\n",
    "dictionary = corpora.Dictionary(processed_url)\n",
    "corpus = [dictionary.doc2bow(text) for text in processed_url]\n",
    "\n",
    "#pickle.dump(corpus, open('corpus.pkl', 'wb'))\n",
    "#dictionary.save('dictionary.gensim')\n",
    "\n",
    "NUM_TOPICS = 9\n",
    "ldamodel = gensim.models.ldamodel.LdaModel(corpus, num_topics = NUM_TOPICS, id2word=dictionary, passes=15)\n",
    "#ldamodel.save(f\"model{NUM_TOPICS}.gensim\")"
   ]
  },
  {
   "cell_type": "code",
   "execution_count": 9,
   "metadata": {},
   "outputs": [
    {
     "name": "stdout",
     "output_type": "stream",
     "text": [
      "Topic: 0 \n",
      "Words: 0.014*\"notre\" + 0.011*\"votre\" + 0.010*\"obtenir\" + 0.009*\"promo\" + 0.009*\"président\" + 0.008*\"permet\" + 0.007*\"figaro\" + 0.007*\"achat\" + 0.007*\"légumes\" + 0.006*\"réduction\"\n",
      "Topic: 1 \n",
      "Words: 0.043*\"temps\" + 0.036*\"monde\" + 0.032*\"images\" + 0.031*\"toutes\" + 0.028*\"accédez\" + 0.028*\"suivez\" + 0.027*\"sport\" + 0.025*\"business\" + 0.025*\"rédaction\" + 0.025*\"sportif\"\n",
      "Topic: 2 \n",
      "Words: 0.013*\"recettes\" + 0.012*\"sélection\" + 0.009*\"notre\" + 0.008*\"cette\" + 0.007*\"découvrez\" + 0.007*\"maison\" + 0.007*\"saint\" + 0.007*\"voici\" + 0.006*\"enfants\" + 0.006*\"théâtre\"\n",
      "Topic: 3 \n",
      "Words: 0.037*\"réponse\" + 0.035*\"meilleure\" + 0.014*\"votre\" + 0.012*\"bonjour\" + 0.012*\"faire\" + 0.010*\"voici\" + 0.007*\"comme\" + 0.006*\"comment\" + 0.006*\"après\" + 0.005*\"quand\"\n",
      "Topic: 4 \n",
      "Words: 0.011*\"figaro\" + 0.008*\"leurs\" + 0.007*\"quels\" + 0.007*\"france\" + 0.007*\"elles\" + 0.006*\"paris\" + 0.006*\"consulter\" + 0.006*\"vente\" + 0.006*\"annonces\" + 0.006*\"classement\"\n",
      "Topic: 5 \n",
      "Words: 0.012*\"retour\" + 0.009*\"après\" + 0.008*\"depuis\" + 0.008*\"actrice\" + 0.007*\"mariage\" + 0.007*\"était\" + 0.006*\"femme\" + 0.006*\"espagne\" + 0.006*\"votre\" + 0.006*\"couple\"\n",
      "Topic: 6 \n",
      "Words: 0.027*\"recette\" + 0.016*\"santé\" + 0.011*\"facile\" + 0.010*\"personnes\" + 0.010*\"ingrédients\" + 0.009*\"mieux\" + 0.009*\"minutes\" + 0.009*\"sucre\" + 0.008*\"découvrez\" + 0.008*\"rapide\"\n",
      "Topic: 7 \n",
      "Words: 0.016*\"défaut\" + 0.015*\"description\" + 0.012*\"france\" + 0.011*\"meteo\" + 0.011*\"latitude\" + 0.011*\"altitude\" + 0.011*\"longitude\" + 0.010*\"coloriage\" + 0.007*\"europe\" + 0.006*\"monde\"\n",
      "Topic: 8 \n",
      "Words: 0.011*\"découvrez\" + 0.009*\"résultats\" + 0.008*\"millions\" + 0.007*\"cette\" + 0.007*\"france\" + 0.007*\"euros\" + 0.007*\"année\" + 0.006*\"paris\" + 0.006*\"emploi\" + 0.005*\"vidéo\"\n"
     ]
    }
   ],
   "source": [
    "for idx, topic in ldamodel.print_topics(-1):\n",
    "    print('Topic: {} \\nWords: {}'.format(idx, topic))"
   ]
  },
  {
   "cell_type": "code",
   "execution_count": 10,
   "metadata": {},
   "outputs": [
    {
     "name": "stdout",
     "output_type": "stream",
     "text": [
      "(0, '0.014*\"notre\"')\n",
      "(1, '0.043*\"temps\"')\n",
      "(2, '0.013*\"recettes\"')\n",
      "(3, '0.037*\"réponse\"')\n",
      "(4, '0.011*\"figaro\"')\n",
      "(5, '0.012*\"retour\"')\n",
      "(6, '0.027*\"recette\"')\n",
      "(7, '0.016*\"défaut\"')\n",
      "(8, '0.011*\"découvrez\"')\n"
     ]
    }
   ],
   "source": [
    "topics = ldamodel.print_topics(num_words=1)\n",
    "for topic in topics:\n",
    "    print(topic)"
   ]
  },
  {
   "cell_type": "markdown",
   "metadata": {},
   "source": [
    "## Improving Model: LDA on combined URL, TITLES and DESCRIPTIONS tokens"
   ]
  },
  {
   "cell_type": "code",
   "execution_count": 11,
   "metadata": {},
   "outputs": [],
   "source": [
    "import gensim\n",
    "import pandas as pd\n",
    "from gensim import corpora\n",
    "import pickle\n",
    "\n",
    "df = pd.read_csv(\"data2.csv\")\n",
    "unallowed_words = [\"lefigaro\",\"figaro\",\"linternaute\",\"commentcamarche\",\"journaldunet\",\"lachainemeteo\",\"linternaute\",\"internaute\",\"madame\"]\n",
    "\n",
    "def preprocess(text):\n",
    "    result = []\n",
    "    for token in gensim.utils.simple_preprocess(text):\n",
    "        if token not in gensim.parsing.preprocessing.STOPWORDS and len(token) > 4 and token not in unallowed_words:\n",
    "            result.append(token)\n",
    "    return result\n",
    "\n",
    "processed_url = df[['description', 'title', 'url_clean']].apply(lambda x: ' '.join(x).replace('[','').replace(']','').replace(\"'\",\"\").replace(\".\",\"\").replace(\",\",\"\").replace(\";\",\"\"), axis=1).map(preprocess)\n",
    "processed_url\n",
    "\n",
    "dictionary = corpora.Dictionary(processed_url)\n",
    "corpus = [dictionary.doc2bow(text) for text in processed_url]\n",
    "\n",
    "#pickle.dump(corpus, open('corpus.pkl', 'wb'))\n",
    "#dictionary.save('dictionary.gensim')\n",
    "\n",
    "NUM_TOPICS = 9\n",
    "ldamodel = gensim.models.ldamodel.LdaModel(corpus, num_topics = NUM_TOPICS, id2word=dictionary, passes=15)\n",
    "#ldamodel.save(f\"model{NUM_TOPICS}.gensim\")"
   ]
  },
  {
   "cell_type": "code",
   "execution_count": 12,
   "metadata": {},
   "outputs": [
    {
     "name": "stdout",
     "output_type": "stream",
     "text": [
      "Topic: 0 \n",
      "Words: 0.016*\"video\" + 0.013*\"enfants\" + 0.012*\"coloriage\" + 0.012*\"hallyday\" + 0.011*\"people\" + 0.009*\"johnny\" + 0.009*\"celebrites\" + 0.008*\"femme\" + 0.008*\"fille\" + 0.007*\"coloriages\"\n",
      "Topic: 1 \n",
      "Words: 0.036*\"réponse\" + 0.036*\"forum\" + 0.034*\"meilleure\" + 0.034*\"affich\" + 0.029*\"résolu\" + 0.023*\"comment\" + 0.012*\"bonjour\" + 0.011*\"faire\" + 0.007*\"votre\" + 0.006*\"médecine\"\n",
      "Topic: 2 \n",
      "Words: 0.054*\"recette\" + 0.044*\"cuisine\" + 0.027*\"recettes\" + 0.013*\"facile\" + 0.010*\"défaut\" + 0.010*\"fiche\" + 0.010*\"questionnaire\" + 0.010*\"description\" + 0.008*\"weekend\" + 0.008*\"cette\"\n",
      "Topic: 3 \n",
      "Words: 0.038*\"meteo\" + 0.028*\"france\" + 0.013*\"ville\" + 0.013*\"jours\" + 0.012*\"météo\" + 0.011*\"chaîne\" + 0.010*\"prévisions\" + 0.009*\"aujourdhui\" + 0.009*\"gratuite\" + 0.008*\"previsions\"\n",
      "Topic: 4 \n",
      "Words: 0.017*\"etudiant\" + 0.017*\"article\" + 0.016*\"verbe\" + 0.011*\"conjugaison\" + 0.010*\"tirage\" + 0.008*\"actualite\" + 0.007*\"ligne\" + 0.007*\"societe\" + 0.007*\"avoir\" + 0.006*\"carte\"\n",
      "Topic: 5 \n",
      "Words: 0.020*\"droit\" + 0.020*\"votre\" + 0.018*\"finances\" + 0.014*\"lettre\" + 0.010*\"conseils\" + 0.009*\"emploi\" + 0.009*\"voici\" + 0.008*\"gratuit\" + 0.008*\"travail\" + 0.008*\"article\"\n",
      "Topic: 6 \n",
      "Words: 0.028*\"sante\" + 0.014*\"comment\" + 0.013*\"article\" + 0.013*\"conseils\" + 0.013*\"santé\" + 0.007*\"contre\" + 0.006*\"quels\" + 0.006*\"pourquoi\" + 0.005*\"faire\" + 0.005*\"maladie\"\n",
      "Topic: 7 \n",
      "Words: 0.046*\"immobilier\" + 0.018*\"vente\" + 0.018*\"paris\" + 0.016*\"annonces\" + 0.016*\"promo\" + 0.013*\"logement\" + 0.011*\"appartement\" + 0.011*\"définition\" + 0.010*\"maison\" + 0.008*\"dictionnaire\"\n",
      "Topic: 8 \n",
      "Words: 0.034*\"sport\" + 0.017*\"monde\" + 0.016*\"temps\" + 0.013*\"images\" + 0.009*\"toutes\" + 0.009*\"business\" + 0.008*\"suivez\" + 0.008*\"prince\" + 0.008*\"video\" + 0.008*\"celebrites\"\n"
     ]
    }
   ],
   "source": [
    "for idx, topic in ldamodel.print_topics(-1):\n",
    "    print('Topic: {} \\nWords: {}'.format(idx, topic))"
   ]
  },
  {
   "cell_type": "code",
   "execution_count": 13,
   "metadata": {},
   "outputs": [
    {
     "name": "stdout",
     "output_type": "stream",
     "text": [
      "(0, '0.016*\"video\"')\n",
      "(1, '0.036*\"réponse\"')\n",
      "(2, '0.054*\"recette\"')\n",
      "(3, '0.038*\"meteo\"')\n",
      "(4, '0.017*\"etudiant\"')\n",
      "(5, '0.020*\"droit\"')\n",
      "(6, '0.028*\"sante\"')\n",
      "(7, '0.046*\"immobilier\"')\n",
      "(8, '0.034*\"sport\"')\n"
     ]
    }
   ],
   "source": [
    "topics = ldamodel.print_topics(num_words=1)\n",
    "for topic in topics:\n",
    "    print(topic)"
   ]
  },
  {
   "cell_type": "markdown",
   "metadata": {},
   "source": [
    "## Improving Model: Coherence values analysis for best number of topics"
   ]
  },
  {
   "cell_type": "code",
   "execution_count": 14,
   "metadata": {},
   "outputs": [
    {
     "name": "stdout",
     "output_type": "stream",
     "text": [
      "Number of unique tokens: 6138\n",
      "Number of documents: 14841\n",
      "[[(0, 1), (1, 1), (2, 1), (3, 1), (4, 1), (5, 1), (6, 1), (7, 3), (8, 1), (9, 1), (10, 2), (11, 1), (12, 1), (13, 3), (14, 1), (15, 1), (16, 1), (17, 3), (18, 1), (19, 1), (20, 2), (21, 1), (22, 1), (23, 1), (24, 3)]]\n"
     ]
    }
   ],
   "source": [
    "import numpy as np\n",
    "import pandas as pd\n",
    "import logging\n",
    "import pyLDAvis.gensim\n",
    "import json\n",
    "import warnings\n",
    "warnings.filterwarnings('ignore')  # To ignore all warnings that arise here to enhance clarity\n",
    "from nltk.stem.wordnet import WordNetLemmatizer\n",
    "from nltk.tokenize import RegexpTokenizer\n",
    "from gensim.models.coherencemodel import CoherenceModel\n",
    "from gensim.models.ldamodel import LdaModel\n",
    "from gensim.corpora.dictionary import Dictionary\n",
    "from numpy import array\n",
    "\n",
    "# Import dataset\n",
    "p_df = pd.read_csv('data2.csv')\n",
    "p_df['all'] = p_df[['description', 'title', 'url_clean']].apply(lambda x: ' '.join(x).replace('[','').replace(']','').replace(\"'\",\"\").replace(\".\",\"\").replace(\",\",\"\").replace(\";\",\"\"), axis=1)\n",
    "\n",
    "docs =array(p_df['all'])\n",
    "unallowed_words = [\"lefigaro\",\"figaro\",\"linternaute\",\"commentcamarche\",\"journaldunet\",\"lachainemeteo\",\"linternaute\",\"internaute\",\"madame\"]\n",
    "\n",
    "# Define function for tokenize and lemmatizing\n",
    "def docs_preprocessor(docs):\n",
    "    tokenizer = RegexpTokenizer(r'\\w+')\n",
    "    for idx in range(len(docs)):\n",
    "        docs[idx] = docs[idx].lower()  # Convert to lowercase.\n",
    "        docs[idx] = tokenizer.tokenize(docs[idx])  # Split into words.\n",
    "\n",
    "    # Remove numbers, but not words that contain numbers.\n",
    "    docs = [[token for token in doc if not token.isdigit()] for doc in docs]\n",
    "    \n",
    "    # Remove unallowed_words and with less than 4 characters\n",
    "    docs = [[token for token in doc if len(token) > 4 and token not in unallowed_words] for doc in docs]\n",
    "    \n",
    "    # Lemmatize all words in documents.\n",
    "    lemmatizer = WordNetLemmatizer()\n",
    "    docs = [[lemmatizer.lemmatize(token) for token in doc] for doc in docs]\n",
    "  \n",
    "    return docs\n",
    "# Perform function on our document\n",
    "docs = docs_preprocessor(docs)\n",
    "#Create Biagram & Trigram Models \n",
    "from gensim.models import Phrases\n",
    "# Add bigrams and trigrams to docs,minimum count 10 means only that appear 2 times or more.\n",
    "bigram = Phrases(docs, min_count=2)\n",
    "trigram = Phrases(bigram[docs])\n",
    "\n",
    "for idx in range(len(docs)):\n",
    "    for token in bigram[docs[idx]]:\n",
    "        if '_' in token:\n",
    "            # Token is a bigram, add to document.\n",
    "            docs[idx].append(token)\n",
    "    for token in trigram[docs[idx]]:\n",
    "        if '_' in token:\n",
    "            # Token is a bigram, add to document.\n",
    "            docs[idx].append(token)\n",
    "#Remove rare & common tokens \n",
    "# Create a dictionary representation of the documents.\n",
    "dictionary = Dictionary(docs)\n",
    "dictionary.filter_extremes(no_below=10, no_above=0.2)\n",
    "#Create dictionary and corpus required for Topic Modeling\n",
    "corpus = [dictionary.doc2bow(doc) for doc in docs]\n",
    "print('Number of unique tokens: %d' % len(dictionary))\n",
    "print('Number of documents: %d' % len(corpus))\n",
    "print(corpus[:1])"
   ]
  },
  {
   "cell_type": "code",
   "execution_count": 15,
   "metadata": {},
   "outputs": [],
   "source": [
    "def compute_coherence_values(dictionary, corpus, texts, limit, start=2, step=2):\n",
    "    \"\"\"\n",
    "    Compute c_v coherence for various number of topics\n",
    "\n",
    "    Parameters:\n",
    "    ----------\n",
    "    dictionary : Gensim dictionary\n",
    "    corpus : Gensim corpus\n",
    "    texts : List of input texts\n",
    "    limit : Max num of topics\n",
    "\n",
    "    Returns:\n",
    "    -------\n",
    "    model_list : List of LDA topic models\n",
    "    coherence_values : Coherence values corresponding to the LDA model with respective number of topics\n",
    "    \"\"\"\n",
    "    coherence_values = []\n",
    "    coherence_values2 = []\n",
    "    model_list = []\n",
    "    for num_topics in range(start, limit, step):\n",
    "        model=LdaModel(corpus=corpus, id2word=dictionary, num_topics=num_topics)\n",
    "        model_list.append(model)\n",
    "        coherencemodel = CoherenceModel(model=model, texts=texts, dictionary=dictionary, coherence='c_v')\n",
    "        coherencemodel2 = CoherenceModel(model=model, texts=texts, dictionary=dictionary, coherence='u_mass')\n",
    "        coherence_values.append(coherencemodel.get_coherence())\n",
    "        coherence_values2.append(coherencemodel2.get_coherence())\n",
    "\n",
    "    return model_list, coherence_values, coherence_values2\n",
    "model_list, coherence_values, coherence_values2 = compute_coherence_values(dictionary=dictionary, corpus=corpus, texts=docs, start=2, limit=40, step=2)"
   ]
  },
  {
   "cell_type": "code",
   "execution_count": 29,
   "metadata": {},
   "outputs": [
    {
     "data": {
      "image/png": "[encoded data removed]",
      "text/plain": [
       "<Figure size 432x288 with 2 Axes>"
      ]
     },
     "metadata": {},
     "output_type": "display_data"
    }
   ],
   "source": [
    "# Show graph\n",
    "import matplotlib.pyplot as plt\n",
    "limit=39; start=2; step=2;\n",
    "x = range(start, limit, step)\n",
    "\n",
    "plt.subplot(2, 1, 1)\n",
    "plt.plot(x, coherence_values,label=\"c_v\")\n",
    "plt.title('Topic Coherence Values')\n",
    "plt.ylabel('c_v')\n",
    "\n",
    "plt.subplot(2, 1, 2)\n",
    "plt.plot(x, coherence_values2,label=\"u_mass\")\n",
    "plt.xlabel('Num Topics')\n",
    "plt.ylabel('u_mass')\n",
    "\n",
    "plt.legend((\"coherence_values\"), loc='best')\n",
    "plt.show()"
   ]
  },
  {
   "cell_type": "code",
   "execution_count": 17,
   "metadata": {},
   "outputs": [
    {
     "name": "stdout",
     "output_type": "stream",
     "text": [
      "[(0, '0.036*\"video_video\" + 0.035*\"video\" + 0.016*\"mariage\" + 0.014*\"nouvelle\" + 0.012*\"après\" + 0.012*\"photo\" + 0.011*\"vidéo\" + 0.011*\"nouveau\" + 0.011*\"maison\" + 0.010*\"faire\"'), (1, '0.038*\"immobilier\" + 0.019*\"paris\" + 0.013*\"johnny_hallyday\" + 0.013*\"tirage\" + 0.012*\"hallyday\" + 0.012*\"article\" + 0.012*\"vente\" + 0.011*\"contre\" + 0.010*\"leurs\" + 0.010*\"johnny\"'), (2, '0.052*\"meilleure_réponse\" + 0.022*\"résolu_forum\" + 0.019*\"réponse\" + 0.019*\"meilleure\" + 0.019*\"forum\" + 0.018*\"affich\" + 0.015*\"résolu\" + 0.015*\"comment\" + 0.013*\"forum_affich\" + 0.010*\"ticketac_spectacle\"'), (3, '0.047*\"meteo\" + 0.032*\"etudiant_etudiant\" + 0.027*\"etudiant\" + 0.023*\"chaîne_météo\" + 0.022*\"ville_prevision\" + 0.017*\"gratuite_jours\" + 0.017*\"prévisions_meteo\" + 0.017*\"latitude_altitude\" + 0.013*\"météo\" + 0.013*\"chaîne\"'), (4, '0.032*\"sport\" + 0.020*\"immobilier_article\" + 0.018*\"temp_sport\" + 0.016*\"temp\" + 0.015*\"monde\" + 0.013*\"image_sport\" + 0.013*\"traités_rédaction\" + 0.013*\"suivez_temp\" + 0.013*\"accédez_contenus\" + 0.013*\"lactualité_sportive\"'), (5, '0.030*\"description_défaut\" + 0.025*\"questionnaire_fiche\" + 0.021*\"votre\" + 0.017*\"fiche\" + 0.015*\"défaut\" + 0.015*\"description\" + 0.015*\"questionnaire\" + 0.015*\"article\" + 0.014*\"detail_article\" + 0.013*\"cadremploi_editorial\"'), (6, '0.033*\"sante_article\" + 0.021*\"article\" + 0.021*\"sante\" + 0.016*\"societe\" + 0.011*\"coupe\" + 0.011*\"comment\" + 0.010*\"sante_journaldesfemmes\" + 0.009*\"femmes\" + 0.008*\"pourquoi\" + 0.008*\"conseils\"'), (7, '0.049*\"cuisine\" + 0.045*\"recette\" + 0.037*\"cuisine_journaldesfemmes\" + 0.032*\"recettes\" + 0.031*\"cuisine_recettes\" + 0.023*\"actualite_societe\" + 0.021*\"cuisine_cuisine\" + 0.015*\"annonces\" + 0.012*\"immobilier_annonces\" + 0.011*\"recette_facile\"')]\n"
     ]
    },
    {
     "data": {
      "text/plain": [
       "'\\n# Compute Coherence Score using c_v and UMass\\ncoherence_model_lda = CoherenceModel(model=lda_model, texts=docs, dictionary=dictionary, coherence=\\'c_v\\')\\ncoherence_model_lda_umass = CoherenceModel(model=lda_model, texts=docs, dictionary=dictionary, coherence=\"u_mass\")\\ncoherence_lda_cv = coherence_model_lda.get_coherence()\\ncoherence_lda_umass = coherence_model_lda_umass.get_coherence()\\nprint(\\'\\nCoherence Score_c_v: \\', coherence_lda_cv)\\nprint(\\'\\nCoherence Score_umass: \\', coherence_lda_umass)\\n'"
      ]
     },
     "execution_count": 17,
     "metadata": {},
     "output_type": "execute_result"
    }
   ],
   "source": [
    "# Set parameters.\n",
    "num_topics = 8\n",
    "chunksize = 500 \n",
    "passes = 20 \n",
    "iterations = 400\n",
    "eval_every = 1  \n",
    "\n",
    "# Make a index to word dictionary.\n",
    "temp = dictionary[0]  # only to \"load\" the dictionary.\n",
    "id2word = dictionary.id2token\n",
    "\n",
    "lda_model = LdaModel(corpus=corpus, id2word=id2word, chunksize=chunksize, \\\n",
    "                       alpha='auto', eta='auto', \\\n",
    "                       iterations=iterations, num_topics=num_topics, \\\n",
    "                       passes=passes, eval_every=eval_every)\n",
    "\n",
    "# Print the Keyword in the topics\n",
    "print(lda_model.print_topics())\n",
    "\n",
    "\"\"\"\n",
    "# Compute Coherence Score using c_v and UMass\n",
    "coherence_model_lda = CoherenceModel(model=lda_model, texts=docs, dictionary=dictionary, coherence='c_v')\n",
    "coherence_model_lda_umass = CoherenceModel(model=lda_model, texts=docs, dictionary=dictionary, coherence=\"u_mass\")\n",
    "coherence_lda_cv = coherence_model_lda.get_coherence()\n",
    "coherence_lda_umass = coherence_model_lda_umass.get_coherence()\n",
    "print('\\nCoherence Score_c_v: ', coherence_lda_cv)\n",
    "print('\\nCoherence Score_umass: ', coherence_lda_umass)\n",
    "\"\"\""
   ]
  },
  {
   "cell_type": "markdown",
   "metadata": {},
   "source": [
    "## Improving Model: Analysing titles with LSA and Clustering"
   ]
  },
  {
   "cell_type": "code",
   "execution_count": 18,
   "metadata": {},
   "outputs": [],
   "source": [
    "## LSA: https://medium.com/nanonets/topic-modeling-with-lsa-psla-lda-and-lda2vec-555ff65b0b05\n",
    "from sklearn.feature_extraction.text import TfidfVectorizer\n",
    "from sklearn.decomposition import TruncatedSVD\n",
    "from sklearn.pipeline import Pipeline\n",
    "import pandas as pd\n",
    "\n",
    "df = pd.read_csv(\"data2.csv\")\n",
    "documents = df[\"title\"].values\n",
    "unallowed_words = [\"lefigaro\",\"figaro\",\"linternaute\",\"commentcamarche\",\"journaldunet\",\"lachainemeteo\",\"linternaute\",\"internaute\",\"madame\"]\n",
    "\n",
    "# some preprocessing\n",
    "for r in range(0,len(documents)):\n",
    "    documents[r] = ''.join(i for i in documents[r] if not i.isdigit())\n",
    "    \n",
    "    # Removing words with less than XX characters\n",
    "    XX = 4\n",
    "    documents[r] = ' '.join([w for w in documents[r].split() if len(w)>XX and w not in unallowed_words])\n",
    "\n",
    "# raw documents to tf-idf matrix: \n",
    "vectorizer = TfidfVectorizer(use_idf=True, \n",
    "                             smooth_idf=True)\n",
    "# SVD to reduce dimensionality: \n",
    "svd_model = TruncatedSVD(n_components=1000,\n",
    "                         algorithm='randomized',\n",
    "                         n_iter=100)\n",
    "# pipeline of tf-idf + SVD, fit to and applied to documents:\n",
    "svd_transformer = Pipeline([('tfidf', vectorizer), \n",
    "                            ('svd', svd_model)])\n",
    "svd_matrix = svd_transformer.fit_transform(documents)\n",
    "# svd_matrix can later be used to compare documents, compare words, or compare queries with documents"
   ]
  },
  {
   "cell_type": "code",
   "execution_count": 19,
   "metadata": {},
   "outputs": [
    {
     "data": {
      "image/png": "[encoded data removed]",
      "text/plain": [
       "<Figure size 432x288 with 1 Axes>"
      ]
     },
     "metadata": {},
     "output_type": "display_data"
    }
   ],
   "source": [
    "# Finding optimum number of clusters\n",
    "from sklearn.cluster import KMeans\n",
    "import matplotlib.pyplot as plt\n",
    "\n",
    "NBR_CLUSTER_TEST = 20\n",
    "x = []\n",
    "for j in range(0,len(svd_matrix)):\n",
    "    x.append(svd_matrix[j])\n",
    "wcss = [] #Within Cluster Sum of Squares\n",
    "\n",
    "for i in range(1, NBR_CLUSTER_TEST):\n",
    "    kmeans = KMeans(n_clusters = i, init = 'k-means++', max_iter = 300, n_init = 10, random_state = 0)\n",
    "    kmeans.fit(x)\n",
    "    wcss.append(kmeans.inertia_)\n",
    "    \n",
    "plt.plot(range(1, NBR_CLUSTER_TEST), wcss)\n",
    "plt.title('The elbow method')\n",
    "plt.xlabel('Number of clusters')\n",
    "plt.ylabel('WCSS') \n",
    "plt.show()"
   ]
  },
  {
   "cell_type": "code",
   "execution_count": 20,
   "metadata": {},
   "outputs": [
    {
     "data": {
      "text/html": [
       "<div>\n",
       "<style scoped>\n",
       "    .dataframe tbody tr th:only-of-type {\n",
       "        vertical-align: middle;\n",
       "    }\n",
       "\n",
       "    .dataframe tbody tr th {\n",
       "        vertical-align: top;\n",
       "    }\n",
       "\n",
       "    .dataframe thead th {\n",
       "        text-align: right;\n",
       "    }\n",
       "</style>\n",
       "<table border=\"1\" class=\"dataframe\">\n",
       "  <thead>\n",
       "    <tr style=\"text-align: right;\">\n",
       "      <th></th>\n",
       "      <th>Unnamed: 0</th>\n",
       "      <th>url_clean</th>\n",
       "      <th>title</th>\n",
       "      <th>description</th>\n",
       "    </tr>\n",
       "    <tr>\n",
       "      <th>kmeans_class</th>\n",
       "      <th></th>\n",
       "      <th></th>\n",
       "      <th></th>\n",
       "      <th></th>\n",
       "    </tr>\n",
       "  </thead>\n",
       "  <tbody>\n",
       "    <tr>\n",
       "      <th>0</th>\n",
       "      <td>2019</td>\n",
       "      <td>2019</td>\n",
       "      <td>2019</td>\n",
       "      <td>2019</td>\n",
       "    </tr>\n",
       "    <tr>\n",
       "      <th>1</th>\n",
       "      <td>11919</td>\n",
       "      <td>11919</td>\n",
       "      <td>11919</td>\n",
       "      <td>11919</td>\n",
       "    </tr>\n",
       "    <tr>\n",
       "      <th>2</th>\n",
       "      <td>216</td>\n",
       "      <td>216</td>\n",
       "      <td>216</td>\n",
       "      <td>216</td>\n",
       "    </tr>\n",
       "    <tr>\n",
       "      <th>3</th>\n",
       "      <td>255</td>\n",
       "      <td>255</td>\n",
       "      <td>255</td>\n",
       "      <td>255</td>\n",
       "    </tr>\n",
       "    <tr>\n",
       "      <th>4</th>\n",
       "      <td>304</td>\n",
       "      <td>304</td>\n",
       "      <td>304</td>\n",
       "      <td>304</td>\n",
       "    </tr>\n",
       "    <tr>\n",
       "      <th>5</th>\n",
       "      <td>59</td>\n",
       "      <td>59</td>\n",
       "      <td>59</td>\n",
       "      <td>59</td>\n",
       "    </tr>\n",
       "    <tr>\n",
       "      <th>6</th>\n",
       "      <td>69</td>\n",
       "      <td>69</td>\n",
       "      <td>69</td>\n",
       "      <td>69</td>\n",
       "    </tr>\n",
       "  </tbody>\n",
       "</table>\n",
       "</div>"
      ],
      "text/plain": [
       "              Unnamed: 0  url_clean  title  description\n",
       "kmeans_class                                           \n",
       "0                   2019       2019   2019         2019\n",
       "1                  11919      11919  11919        11919\n",
       "2                    216        216    216          216\n",
       "3                    255        255    255          255\n",
       "4                    304        304    304          304\n",
       "5                     59         59     59           59\n",
       "6                     69         69     69           69"
      ]
     },
     "execution_count": 20,
     "metadata": {},
     "output_type": "execute_result"
    }
   ],
   "source": [
    "#Applying kmeans to the dataset / Creating the kmeans classifier\n",
    "BEST_CLUSTER_NBR = 7\n",
    "kmeans = KMeans(n_clusters = BEST_CLUSTER_NBR, init = 'k-means++', max_iter = 300, n_init = 10, random_state = 0)\n",
    "y_kmeans = kmeans.fit_predict(x)\n",
    "df[\"kmeans_class\"] = y_kmeans\n",
    "df.groupby('kmeans_class').count() "
   ]
  },
  {
   "cell_type": "code",
   "execution_count": 21,
   "metadata": {},
   "outputs": [
    {
     "name": "stdout",
     "output_type": "stream",
     "text": [
      "Cluster: 0 \n",
      " Topic: [(0, '0.175*\"résolu\"')] \n",
      "Words: 0.175*\"résolu\" + 0.034*\"comment\" + 0.016*\"congeler\" + 0.012*\"facebook\" + 0.011*\"asperges\" + 0.011*\"astuces\" + 0.010*\"santé\" + 0.010*\"médecine\" + 0.008*\"faire\" + 0.007*\"iphone\"\n",
      "\n",
      "Cluster: 1 \n",
      " Topic: [(0, '0.017*\"recette\"')] \n",
      "Words: 0.017*\"recette\" + 0.009*\"cuisine\" + 0.008*\"comment\" + 0.006*\"facile\" + 0.006*\"etudiant\" + 0.005*\"france\" + 0.004*\"santé\" + 0.004*\"gratuit\" + 0.003*\"médecine\" + 0.003*\"paris\"\n",
      "\n",
      "Cluster: 2 \n",
      " Topic: [(0, '0.111*\"conseils\"')] \n",
      "Words: 0.111*\"conseils\" + 0.110*\"santé\" + 0.109*\"fiches\" + 0.108*\"médicaux\" + 0.021*\"quels\" + 0.018*\"quelles\" + 0.010*\"comment\" + 0.010*\"causes\" + 0.008*\"douleur\" + 0.008*\"symptômes\"\n",
      "\n",
      "Cluster: 3 \n",
      " Topic: [(0, '0.167*\"meteo\"')] \n",
      "Words: 0.167*\"meteo\" + 0.104*\"météo\" + 0.091*\"chaîne\" + 0.090*\"jours\" + 0.090*\"gratuite\" + 0.084*\"prévisions\" + 0.014*\"france\" + 0.013*\"espagne\" + 0.007*\"italie\" + 0.006*\"meilleure\"\n",
      "\n",
      "Cluster: 4 \n",
      " Topic: [(0, '0.250*\"sport\"')] \n",
      "Words: 0.250*\"sport\" + 0.250*\"temps\" + 0.250*\"sportive\" + 0.250*\"actualité\"\n",
      "\n",
      "Cluster: 5 \n",
      " Topic: [(0, '0.150*\"anniversaire\"')] \n",
      "Words: 0.150*\"anniversaire\" + 0.095*\"carte\" + 0.084*\"envoyez\" + 0.077*\"virtuelle\" + 0.055*\"cartes\" + 0.033*\"cette\" + 0.024*\"animée\" + 0.022*\"classique\" + 0.018*\"modèles\" + 0.015*\"textes\"\n",
      "\n",
      "Cluster: 6 \n",
      " Topic: [(0, '0.143*\"compte\"')] \n",
      "Words: 0.143*\"compte\" + 0.058*\"résolu\" + 0.033*\"facebook\" + 0.025*\"comment\" + 0.023*\"supprimer\" + 0.021*\"solde\" + 0.017*\"bancaire\" + 0.017*\"créer\" + 0.012*\"faire\" + 0.010*\"modèle\"\n",
      "\n"
     ]
    }
   ],
   "source": [
    "#Using LDA to find 1 topic per cluster\n",
    "from sklearn import linear_model\n",
    "from sklearn import metrics\n",
    "from sklearn.feature_extraction.text import TfidfVectorizer\n",
    "from sklearn.neighbors import NearestNeighbors\n",
    "import seaborn as sns\n",
    "import gensim\n",
    "from gensim import corpora\n",
    "import pickle\n",
    "\n",
    "def preprocess(text):\n",
    "    result = []\n",
    "    unallowed_words = [\"lefigaro\",\"figaro\",\"linternaute\",\"commentcamarche\",\"journaldunet\",\"lachainemeteo\",\"linternaute\",\"internaute\",\"madame\"]\n",
    "    for token in gensim.utils.simple_preprocess(text):\n",
    "        if token not in gensim.parsing.preprocessing.STOPWORDS and len(token) > 4 and token not in unallowed_words:\n",
    "            result.append(token)\n",
    "    return result\n",
    "\n",
    "CLUSTER_NUM = 7\n",
    "for i in range(0,CLUSTER_NUM):\n",
    "    # Latent DIrichlet Allocation Model\n",
    "    processed_desc = df.loc[df['kmeans_class']==i][\"title\"].map(preprocess)\n",
    "    dictionary = corpora.Dictionary(processed_desc)\n",
    "    corpus = [dictionary.doc2bow(text) for text in processed_desc]\n",
    "\n",
    "    #pickle.dump(corpus, open('corpus.pkl', 'wb'))\n",
    "    #dictionary.save('dictionary.gensim')\n",
    "\n",
    "    ldamodel = gensim.models.ldamodel.LdaModel(corpus, num_topics = 1, id2word=dictionary, passes=15)\n",
    "    #ldamodel.save(f\"model{NUM_TOPICS}.gensim\")\n",
    "    for idx, topic in ldamodel.print_topics(-1):\n",
    "        print('Cluster: {} \\n Topic: {} \\nWords: {}'.format(i, ldamodel.print_topics(num_words=1), topic))\n",
    "        print()"
   ]
  },
  {
   "cell_type": "markdown",
   "metadata": {},
   "source": [
    "## Improving Model: Analysing Descriptions with Word2vec and Clustering"
   ]
  },
  {
   "cell_type": "code",
   "execution_count": 22,
   "metadata": {},
   "outputs": [],
   "source": [
    "from gensim.models.word2vec import Word2Vec\n",
    "import numpy as np\n",
    "import pandas as pd\n",
    "from sklearn.preprocessing import StandardScaler\n",
    "\n",
    "model_w2v_path = './model_w2v_urls.bin'\n",
    "df2 = pd.read_csv(\"data2.csv\")\n",
    "X_train = df2[\"description\"]\n",
    "emb_size = 128\n",
    "\n",
    "# some preprocessing\n",
    "XX = 4\n",
    "for r in range(0,len(X_train)):\n",
    "    X_train[r] = ''.join(i for i in X_train[r] if not i.isdigit())\n",
    "    X_train[r] = ' '.join([w for w in X_train[r].split() if len(w)>XX])"
   ]
  },
  {
   "cell_type": "code",
   "execution_count": 23,
   "metadata": {},
   "outputs": [
    {
     "name": "stdout",
     "output_type": "stream",
     "text": [
      "training w2v: done\n"
     ]
    }
   ],
   "source": [
    "# Building/training the model\n",
    "# Initialize model_w2v and build vocabularies\n",
    "# should use the whole dataset, not just training set\n",
    "model_w2v = Word2Vec(size=emb_size, min_count=5)\n",
    "model_w2v.build_vocab(X_train)\n",
    "model_w2v.train(X_train, total_examples=model_w2v.corpus_count, epochs=2000)\n",
    "\n",
    "# save the model_w2v\n",
    "model_w2v.save(model_w2v_path)\n",
    "print(\"training w2v: done\")"
   ]
  },
  {
   "cell_type": "code",
   "execution_count": 24,
   "metadata": {},
   "outputs": [
    {
     "data": {
      "text/html": [
       "<div>\n",
       "<style scoped>\n",
       "    .dataframe tbody tr th:only-of-type {\n",
       "        vertical-align: middle;\n",
       "    }\n",
       "\n",
       "    .dataframe tbody tr th {\n",
       "        vertical-align: top;\n",
       "    }\n",
       "\n",
       "    .dataframe thead th {\n",
       "        text-align: right;\n",
       "    }\n",
       "</style>\n",
       "<table border=\"1\" class=\"dataframe\">\n",
       "  <thead>\n",
       "    <tr style=\"text-align: right;\">\n",
       "      <th></th>\n",
       "      <th>url_clean</th>\n",
       "      <th>title</th>\n",
       "      <th>description</th>\n",
       "      <th>vect</th>\n",
       "    </tr>\n",
       "  </thead>\n",
       "  <tbody>\n",
       "    <tr>\n",
       "      <th>0</th>\n",
       "      <td>['droit', 'finances', 'commentcamarche', 'foru...</td>\n",
       "      <td>Ne pas déclarer ses revenus à pôle emploi [Rés...</td>\n",
       "      <td>Meilleure réponse: Bonsoir; déclaration mensue...</td>\n",
       "      <td>[-0.1136326690018177, -0.01917192471878869, 0....</td>\n",
       "    </tr>\n",
       "    <tr>\n",
       "      <th>1</th>\n",
       "      <td>['cuisine', 'journaldesfemmes', 'recette', 'de...</td>\n",
       "      <td>Recettes de desserts faciles et rapides</td>\n",
       "      <td>meilleures recettes desserts; classiques origi...</td>\n",
       "      <td>[-0.06005799306763543, -0.010649692888061205, ...</td>\n",
       "    </tr>\n",
       "    <tr>\n",
       "      <th>2</th>\n",
       "      <td>['droit', 'finances', 'commentcamarche', 'faq'...</td>\n",
       "      <td>Salaire d'une assistante maternelle : ce qu'il...</td>\n",
       "      <td>rémunération assistantes maternelles (salaire ...</td>\n",
       "      <td>[-0.07474714340736167, -0.05681402749861732, 0...</td>\n",
       "    </tr>\n",
       "    <tr>\n",
       "      <th>3</th>\n",
       "      <td>['lachainemeteo', 'meteo', 'france', 'ville', ...</td>\n",
       "      <td>Meteo Bordeaux (33000) - Gironde : Prévisions ...</td>\n",
       "      <td>Meteo Bordeaux jours prévision météo gratuite....</td>\n",
       "      <td>[-0.14753458100924458, -0.04770482218135958, 0...</td>\n",
       "    </tr>\n",
       "    <tr>\n",
       "      <th>4</th>\n",
       "      <td>['droit', 'finances', 'commentcamarche', 'faq'...</td>\n",
       "      <td>AAH 2019 : montant et plafonds de ressources</td>\n",
       "      <td>montant maximum l'allocation adultes handicapé...</td>\n",
       "      <td>[-0.10720171013640033, -0.11059364451118457, 0...</td>\n",
       "    </tr>\n",
       "  </tbody>\n",
       "</table>\n",
       "</div>"
      ],
      "text/plain": [
       "                                           url_clean  \\\n",
       "0  ['droit', 'finances', 'commentcamarche', 'foru...   \n",
       "1  ['cuisine', 'journaldesfemmes', 'recette', 'de...   \n",
       "2  ['droit', 'finances', 'commentcamarche', 'faq'...   \n",
       "3  ['lachainemeteo', 'meteo', 'france', 'ville', ...   \n",
       "4  ['droit', 'finances', 'commentcamarche', 'faq'...   \n",
       "\n",
       "                                               title  \\\n",
       "0  Ne pas déclarer ses revenus à pôle emploi [Rés...   \n",
       "1            Recettes de desserts faciles et rapides   \n",
       "2  Salaire d'une assistante maternelle : ce qu'il...   \n",
       "3  Meteo Bordeaux (33000) - Gironde : Prévisions ...   \n",
       "4       AAH 2019 : montant et plafonds de ressources   \n",
       "\n",
       "                                         description  \\\n",
       "0  Meilleure réponse: Bonsoir; déclaration mensue...   \n",
       "1  meilleures recettes desserts; classiques origi...   \n",
       "2  rémunération assistantes maternelles (salaire ...   \n",
       "3  Meteo Bordeaux jours prévision météo gratuite....   \n",
       "4  montant maximum l'allocation adultes handicapé...   \n",
       "\n",
       "                                                vect  \n",
       "0  [-0.1136326690018177, -0.01917192471878869, 0....  \n",
       "1  [-0.06005799306763543, -0.010649692888061205, ...  \n",
       "2  [-0.07474714340736167, -0.05681402749861732, 0...  \n",
       "3  [-0.14753458100924458, -0.04770482218135958, 0...  \n",
       "4  [-0.10720171013640033, -0.11059364451118457, 0...  "
      ]
     },
     "execution_count": 24,
     "metadata": {},
     "output_type": "execute_result"
    }
   ],
   "source": [
    "# Reloading the trained model_w2v, buidling vectors and cleaning dataframe\n",
    "new_model = Word2Vec.load(model_w2v_path)\n",
    "X = new_model[new_model.wv.vocab] # get words\n",
    "\n",
    "def build_word2vec_from_text(model_w2v, sentence, emb_size):\n",
    "    emb_vec = np.zeros(emb_size).reshape((1, emb_size))\n",
    "    count = 0.\n",
    "    for word in sentence:\n",
    "        try:\n",
    "            emb_vec += model_w2v[word].reshape((1, emb_size))\n",
    "            count += 1.\n",
    "        except KeyError:\n",
    "            continue\n",
    "    if count != 0:\n",
    "        emb_vec /= count\n",
    "    return emb_vec\n",
    "\n",
    "def scalar_2vec(data_frame, column_names):\n",
    "    new_frame = data_frame.loc[:, column_names]\n",
    "    return new_frame\n",
    "\n",
    "X_train = np.concatenate([build_word2vec_from_text(new_model, d, emb_size) for d in X_train]) #model_w2v\n",
    "newdf = pd.concat([df2, pd.DataFrame(X_train)],  axis=1)\n",
    "newdf[\"vect\"] = newdf[list(range(0,128))].values.tolist()\n",
    "selected_columns = [\"url_clean\",\"title\",\"description\",\"vect\"]\n",
    "newdf = scalar_2vec(newdf, selected_columns)\n",
    "newdf.head()"
   ]
  },
  {
   "cell_type": "code",
   "execution_count": 25,
   "metadata": {},
   "outputs": [
    {
     "data": {
      "text/plain": [
       "'\\n## tried to standardize, normalize and scale vectors, but no improvements\\nstandardized_vect = preprocessing.scale(xvect)\\nnormalized_vect = preprocessing.normalize(xvect, norm=\\'l2\\')\\nscaled_vect = preprocessing.scale(xvect)\\nnewdf[\"standard_vect\"] = list(standardized_vect)\\nnewdf[\"normal_vect\"] = list(normalized_vect)\\nnewdf[\"scaled_vect\"] = list(scaled_vect)\\n'"
      ]
     },
     "execution_count": 25,
     "metadata": {},
     "output_type": "execute_result"
    }
   ],
   "source": [
    "# Standardizing vectors\n",
    "from sklearn import preprocessing\n",
    "\n",
    "xvect = []\n",
    "for i in range(0,len(newdf[\"vect\"])):\n",
    "    xvect.append(np.array(newdf[\"vect\"].values[0]))\n",
    "\n",
    "\"\"\"\n",
    "## tried to standardize, normalize and scale vectors, but no improvements\n",
    "standardized_vect = preprocessing.scale(xvect)\n",
    "normalized_vect = preprocessing.normalize(xvect, norm='l2')\n",
    "scaled_vect = preprocessing.scale(xvect)\n",
    "newdf[\"standard_vect\"] = list(standardized_vect)\n",
    "newdf[\"normal_vect\"] = list(normalized_vect)\n",
    "newdf[\"scaled_vect\"] = list(scaled_vect)\n",
    "\"\"\""
   ]
  },
  {
   "cell_type": "code",
   "execution_count": 26,
   "metadata": {},
   "outputs": [
    {
     "data": {
      "image/png": "[encoded data removed]",
      "text/plain": [
       "<Figure size 432x288 with 1 Axes>"
      ]
     },
     "metadata": {},
     "output_type": "display_data"
    }
   ],
   "source": [
    "# Finding optimum number of clusters\n",
    "from sklearn.cluster import KMeans\n",
    "import matplotlib.pyplot as plt\n",
    "\n",
    "NBR_CLUSTER_TEST = 14\n",
    "x = []\n",
    "for j in range(0,len(newdf)):\n",
    "    x.append(newdf[\"vect\"][j])\n",
    "wcss = [] #Within Cluster Sum of Squares\n",
    "\n",
    "for i in range(1, NBR_CLUSTER_TEST):\n",
    "    kmeans = KMeans(n_clusters = i, init = 'k-means++', max_iter = 300, n_init = 10, random_state = 0)\n",
    "    kmeans.fit(x)\n",
    "    wcss.append(kmeans.inertia_)\n",
    "    \n",
    "plt.plot(range(1, NBR_CLUSTER_TEST), wcss)\n",
    "plt.title('The elbow method')\n",
    "plt.xlabel('Number of clusters')\n",
    "plt.ylabel('WCSS') \n",
    "plt.show()"
   ]
  },
  {
   "cell_type": "code",
   "execution_count": 27,
   "metadata": {},
   "outputs": [
    {
     "data": {
      "text/html": [
       "<div>\n",
       "<style scoped>\n",
       "    .dataframe tbody tr th:only-of-type {\n",
       "        vertical-align: middle;\n",
       "    }\n",
       "\n",
       "    .dataframe tbody tr th {\n",
       "        vertical-align: top;\n",
       "    }\n",
       "\n",
       "    .dataframe thead th {\n",
       "        text-align: right;\n",
       "    }\n",
       "</style>\n",
       "<table border=\"1\" class=\"dataframe\">\n",
       "  <thead>\n",
       "    <tr style=\"text-align: right;\">\n",
       "      <th></th>\n",
       "      <th>url_clean</th>\n",
       "      <th>title</th>\n",
       "      <th>description</th>\n",
       "      <th>vect</th>\n",
       "    </tr>\n",
       "    <tr>\n",
       "      <th>kmeans_class</th>\n",
       "      <th></th>\n",
       "      <th></th>\n",
       "      <th></th>\n",
       "      <th></th>\n",
       "    </tr>\n",
       "  </thead>\n",
       "  <tbody>\n",
       "    <tr>\n",
       "      <th>0</th>\n",
       "      <td>1819</td>\n",
       "      <td>1819</td>\n",
       "      <td>1819</td>\n",
       "      <td>1819</td>\n",
       "    </tr>\n",
       "    <tr>\n",
       "      <th>1</th>\n",
       "      <td>3690</td>\n",
       "      <td>3690</td>\n",
       "      <td>3690</td>\n",
       "      <td>3690</td>\n",
       "    </tr>\n",
       "    <tr>\n",
       "      <th>2</th>\n",
       "      <td>284</td>\n",
       "      <td>284</td>\n",
       "      <td>284</td>\n",
       "      <td>284</td>\n",
       "    </tr>\n",
       "    <tr>\n",
       "      <th>3</th>\n",
       "      <td>375</td>\n",
       "      <td>375</td>\n",
       "      <td>375</td>\n",
       "      <td>375</td>\n",
       "    </tr>\n",
       "    <tr>\n",
       "      <th>4</th>\n",
       "      <td>4634</td>\n",
       "      <td>4634</td>\n",
       "      <td>4634</td>\n",
       "      <td>4634</td>\n",
       "    </tr>\n",
       "    <tr>\n",
       "      <th>5</th>\n",
       "      <td>5</td>\n",
       "      <td>5</td>\n",
       "      <td>5</td>\n",
       "      <td>5</td>\n",
       "    </tr>\n",
       "    <tr>\n",
       "      <th>6</th>\n",
       "      <td>31</td>\n",
       "      <td>31</td>\n",
       "      <td>31</td>\n",
       "      <td>31</td>\n",
       "    </tr>\n",
       "    <tr>\n",
       "      <th>7</th>\n",
       "      <td>720</td>\n",
       "      <td>720</td>\n",
       "      <td>720</td>\n",
       "      <td>720</td>\n",
       "    </tr>\n",
       "    <tr>\n",
       "      <th>8</th>\n",
       "      <td>925</td>\n",
       "      <td>925</td>\n",
       "      <td>925</td>\n",
       "      <td>925</td>\n",
       "    </tr>\n",
       "    <tr>\n",
       "      <th>9</th>\n",
       "      <td>2358</td>\n",
       "      <td>2358</td>\n",
       "      <td>2358</td>\n",
       "      <td>2358</td>\n",
       "    </tr>\n",
       "  </tbody>\n",
       "</table>\n",
       "</div>"
      ],
      "text/plain": [
       "              url_clean  title  description  vect\n",
       "kmeans_class                                     \n",
       "0                  1819   1819         1819  1819\n",
       "1                  3690   3690         3690  3690\n",
       "2                   284    284          284   284\n",
       "3                   375    375          375   375\n",
       "4                  4634   4634         4634  4634\n",
       "5                     5      5            5     5\n",
       "6                    31     31           31    31\n",
       "7                   720    720          720   720\n",
       "8                   925    925          925   925\n",
       "9                  2358   2358         2358  2358"
      ]
     },
     "execution_count": 27,
     "metadata": {},
     "output_type": "execute_result"
    }
   ],
   "source": [
    "#Applying kmeans to the dataset / Creating the kmeans classifier\n",
    "BEST_CLUSTER_NBR = 10\n",
    "kmeans = KMeans(n_clusters = BEST_CLUSTER_NBR, init = 'k-means++', max_iter = 300, n_init = 10, random_state = 0)\n",
    "y_kmeans = kmeans.fit_predict(x)\n",
    "newdf[\"kmeans_class\"] = y_kmeans\n",
    "newdf.groupby('kmeans_class').count()"
   ]
  },
  {
   "cell_type": "code",
   "execution_count": 28,
   "metadata": {},
   "outputs": [
    {
     "name": "stdout",
     "output_type": "stream",
     "text": [
      "LDA FAILED FOR CLUSTER: 0\n"
     ]
    },
    {
     "name": "stderr",
     "output_type": "stream",
     "text": [
      "ERROR:root:Internal Python error in the inspect module.\n",
      "Below is the traceback from this internal error.\n",
      "\n"
     ]
    },
    {
     "name": "stdout",
     "output_type": "stream",
     "text": [
      "Traceback (most recent call last):\n",
      "  File \"/Users/home/anaconda3/envs/py36/lib/python3.6/site-packages/IPython/core/interactiveshell.py\", line 2963, in run_code\n",
      "    exec(code_obj, self.user_global_ns, self.user_ns)\n",
      "  File \"<ipython-input-28-a627d21e9f3a>\", line 41, in <module>\n",
      "    word2_matrix = pd.concat([word2_matrix, pd.Series(tfidf_matrix.getrow(rows).toarray().flatten(),index = features).sort_values(ascending=False)])\n",
      "  File \"/Users/home/anaconda3/envs/py36/lib/python3.6/site-packages/pandas/core/reshape/concat.py\", line 225, in concat\n",
      "    copy=copy, sort=sort)\n",
      "  File \"/Users/home/anaconda3/envs/py36/lib/python3.6/site-packages/pandas/core/reshape/concat.py\", line 378, in __init__\n",
      "    self.new_axes = self._get_new_axes()\n",
      "  File \"/Users/home/anaconda3/envs/py36/lib/python3.6/site-packages/pandas/core/reshape/concat.py\", line 458, in _get_new_axes\n",
      "    new_axes[self.axis] = self._get_concat_axis()\n",
      "  File \"/Users/home/anaconda3/envs/py36/lib/python3.6/site-packages/pandas/core/reshape/concat.py\", line 511, in _get_concat_axis\n",
      "    concat_axis = _concat_indexes(indexes)\n",
      "  File \"/Users/home/anaconda3/envs/py36/lib/python3.6/site-packages/pandas/core/reshape/concat.py\", line 529, in _concat_indexes\n",
      "    return indexes[0].append(indexes[1:])\n",
      "  File \"/Users/home/anaconda3/envs/py36/lib/python3.6/site-packages/pandas/core/indexes/base.py\", line 2126, in append\n",
      "    return self._concat(to_concat, name)\n",
      "  File \"/Users/home/anaconda3/envs/py36/lib/python3.6/site-packages/pandas/core/indexes/base.py\", line 2133, in _concat\n",
      "    return self._concat_same_dtype(to_concat, name=name)\n",
      "  File \"/Users/home/anaconda3/envs/py36/lib/python3.6/site-packages/pandas/core/indexes/base.py\", line 2141, in _concat_same_dtype\n",
      "    return _concat._concat_index_asobject(to_concat, name)\n",
      "  File \"/Users/home/anaconda3/envs/py36/lib/python3.6/site-packages/pandas/core/dtypes/concat.py\", line 534, in _concat_index_asobject\n",
      "    return self._shallow_copy_with_infer(np.concatenate(to_concat), **attribs)\n",
      "  File \"/Users/home/anaconda3/envs/py36/lib/python3.6/site-packages/pandas/core/indexes/base.py\", line 531, in _shallow_copy_with_infer\n",
      "    return Index(values, **attributes)\n",
      "  File \"/Users/home/anaconda3/envs/py36/lib/python3.6/site-packages/pandas/core/indexes/base.py\", line 377, in __new__\n",
      "    inferred = lib.infer_dtype(subarr)\n",
      "KeyboardInterrupt\n",
      "\n",
      "During handling of the above exception, another exception occurred:\n",
      "\n",
      "Traceback (most recent call last):\n",
      "  File \"/Users/home/anaconda3/envs/py36/lib/python3.6/site-packages/IPython/core/interactiveshell.py\", line 1863, in showtraceback\n",
      "    stb = value._render_traceback_()\n",
      "AttributeError: 'KeyboardInterrupt' object has no attribute '_render_traceback_'\n",
      "\n",
      "During handling of the above exception, another exception occurred:\n",
      "\n",
      "Traceback (most recent call last):\n",
      "  File \"/Users/home/anaconda3/envs/py36/lib/python3.6/site-packages/IPython/core/ultratb.py\", line 1095, in get_records\n",
      "    return _fixed_getinnerframes(etb, number_of_lines_of_context, tb_offset)\n",
      "  File \"/Users/home/anaconda3/envs/py36/lib/python3.6/site-packages/IPython/core/ultratb.py\", line 311, in wrapped\n",
      "    return f(*args, **kwargs)\n",
      "  File \"/Users/home/anaconda3/envs/py36/lib/python3.6/site-packages/IPython/core/ultratb.py\", line 345, in _fixed_getinnerframes\n",
      "    records = fix_frame_records_filenames(inspect.getinnerframes(etb, context))\n",
      "  File \"/Users/home/anaconda3/envs/py36/lib/python3.6/inspect.py\", line 1488, in getinnerframes\n",
      "    frameinfo = (tb.tb_frame,) + getframeinfo(tb, context)\n",
      "  File \"/Users/home/anaconda3/envs/py36/lib/python3.6/inspect.py\", line 1446, in getframeinfo\n",
      "    filename = getsourcefile(frame) or getfile(frame)\n",
      "  File \"/Users/home/anaconda3/envs/py36/lib/python3.6/inspect.py\", line 696, in getsourcefile\n",
      "    if getattr(getmodule(object, filename), '__loader__', None) is not None:\n",
      "  File \"/Users/home/anaconda3/envs/py36/lib/python3.6/inspect.py\", line 739, in getmodule\n",
      "    f = getabsfile(module)\n",
      "  File \"/Users/home/anaconda3/envs/py36/lib/python3.6/inspect.py\", line 708, in getabsfile\n",
      "    _filename = getsourcefile(object) or getfile(object)\n",
      "  File \"/Users/home/anaconda3/envs/py36/lib/python3.6/inspect.py\", line 693, in getsourcefile\n",
      "    if os.path.exists(filename):\n",
      "  File \"/Users/home/anaconda3/envs/py36/lib/python3.6/genericpath.py\", line 19, in exists\n",
      "    os.stat(path)\n",
      "KeyboardInterrupt\n"
     ]
    },
    {
     "ename": "KeyboardInterrupt",
     "evalue": "",
     "output_type": "error",
     "traceback": [
      "\u001b[0;31m---------------------------------------------------------------------------\u001b[0m"
     ]
    },
    {
     "data": {
      "image/png": "[encoded data removed]",
      "text/plain": [
       "<Figure size 720x432 with 1 Axes>"
      ]
     },
     "metadata": {},
     "output_type": "display_data"
    }
   ],
   "source": [
    "#TF-IDF Analysis\n",
    "#We want to plot the number of words of description text for each cluster\n",
    "from sklearn import linear_model\n",
    "from sklearn import metrics\n",
    "from sklearn.feature_extraction.text import TfidfVectorizer\n",
    "from sklearn.neighbors import NearestNeighbors\n",
    "import seaborn as sns\n",
    "import gensim\n",
    "from gensim import corpora\n",
    "import pickle\n",
    "\n",
    "def preprocess(text):\n",
    "    result = []\n",
    "    for token in gensim.utils.simple_preprocess(text):\n",
    "        if token not in gensim.parsing.preprocessing.STOPWORDS and len(token) > 3:\n",
    "            result.append(token)\n",
    "    return result\n",
    "\n",
    "CLUSTER_NUM = 8\n",
    "for i in range(0,CLUSTER_NUM):\n",
    "    #TfidfVectorizer: Converts a collection of raw documents to a matrix of TF-IDF features.\n",
    "    #min_df: When building the vocabulary ignore terms that have a document frequency strictly lower than the given threshold.\n",
    "    #max_df: When building the vocabulary ignore terms that have a document frequency strictly higher than the given threshold.\n",
    "    #Apply this vectorizer to the full dataset to create normalized vectors\n",
    "    tfidf_vectorizer = TfidfVectorizer(min_df=3, max_df = 0.95, sublinear_tf=True, use_idf=True)\n",
    "    tfidf_matrix = tfidf_vectorizer.fit_transform(newdf[\"description\"].values)\n",
    "\n",
    "    #tfidf_vectorizer.get_feature_names(): Array mapping from feature integer indices to feature name\n",
    "    features = tfidf_vectorizer.get_feature_names()\n",
    "\n",
    "    #Get the row that belongs to cluster 0\n",
    "    row = newdf.loc[newdf['kmeans_class']==i].index.tolist()\n",
    "    \n",
    "    \"\"\"\n",
    "    #Create a series from the sparse matrix\n",
    "    word2_matrix = pd.Series(tfidf_matrix.getrow(row).toarray().flatten(),index = features).sort_values(ascending=False)\n",
    "    \"\"\"\n",
    "    \n",
    "    word2_matrix = pd.Series()\n",
    "    for rows in row:\n",
    "        word2_matrix = pd.concat([word2_matrix, pd.Series(tfidf_matrix.getrow(rows).toarray().flatten(),index = features).sort_values(ascending=False)])\n",
    "    word2_matrix = word2_matrix.sort_index(axis=0)\n",
    "    \n",
    "    tf_idf_plot = word2_matrix[:30].plot(kind='bar', title='Article Word TF-IDF Values',\n",
    "                figsize=(10,6), alpha=1, fontsize=14, rot=80,edgecolor='black', linewidth=2 )\n",
    "    tf_idf_plot.title.set_size(18)\n",
    "    tf_idf_plot.set_xlabel('WORDS')\n",
    "    tf_idf_plot.set_ylabel('TF-IDF')\n",
    "    \n",
    "    # Latent Dirichlet Allocation Model\n",
    "    processed_desc = word2_matrix[0:1000].index.map(preprocess)\n",
    "    dictionary = corpora.Dictionary(processed_desc)\n",
    "    corpus = [dictionary.doc2bow(text) for text in processed_desc]\n",
    "\n",
    "    #pickle.dump(corpus, open('corpus.pkl', 'wb'))\n",
    "    #dictionary.save('dictionary.gensim')\n",
    "\n",
    "    try:\n",
    "        ldamodel = gensim.models.ldamodel.LdaModel(corpus, num_topics = 1, id2word=dictionary, passes=15)\n",
    "        #ldamodel.save(f\"model{NUM_TOPICS}.gensim\")\n",
    "        for idx, topic in ldamodel.print_topics(-1):\n",
    "            print('dataframe: {} \\n topic: {} \\n Words: {}'.format(i, idx, topic))\n",
    "    except:\n",
    "        print(f\"LDA FAILED FOR CLUSTER: {i}\")"
   ]
  }
 ],
 "metadata": {
  "kernelspec": {
   "display_name": "Python 3",
   "language": "python",
   "name": "python3"
  },
  "language_info": {
   "codemirror_mode": {
    "name": "ipython",
    "version": 3
   },
   "file_extension": ".py",
   "mimetype": "text/x-python",
   "name": "python",
   "nbconvert_exporter": "python",
   "pygments_lexer": "ipython3",
   "version": "3.6.7"
  }
 },
 "nbformat": 4,
 "nbformat_minor": 2
}
