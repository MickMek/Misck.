{
 "cells": [
  {
   "cell_type": "markdown",
   "metadata": {},
   "source": [
    "## ArtPrice - artprice.com"
   ]
  },
  {
   "cell_type": "code",
   "execution_count": null,
   "metadata": {},
   "outputs": [],
   "source": [
    "#SAMPLE CODE FOR 1 PAGE\n",
    "import bs4\n",
    "from urllib.request import urlopen as uReq\n",
    "from bs4 import BeautifulSoup as soup\n",
    "\n",
    "my_url = \"https://www.artprice.com/artist/22796/pablo-picasso/lots/pasts\"\n",
    "uClient = uReq(my_url)\n",
    "page_html = uClient.read()\n",
    "uClient.close()\n",
    "\n",
    "page_soup = soup(page_html, 'html.parser')\n",
    "containers = page_soup.findAll(\"div\",{\"id\":\"main-page-content\"})\n",
    "\n",
    "#filename = \"artpieces_testpage.csv\"\n",
    "#f = open(filename, 'w+')\n",
    "\n",
    "for i in range(0,len(containers)):\n",
    "    try:\n",
    "        title_piece = containers[i].a[\"title\"]\n",
    "        date = containers[i].date.text.strip()\n",
    "        misc_info = containers[i].findAll(\"p\")[1].text.strip().split(\",\")\n",
    "        art_type = misc_info[0]\n",
    "        material_used = misc_info[1]\n",
    "        size = misc_info[2]\n",
    "        size = size.split(\"in\")[1]\n",
    "        location = containers[i].findAll(\"p\")[5].text.strip()\n",
    "        print(title_piece + \",\" + date+ \",\" +art_type+ \",\" +material_used+ \",\" +size+ \",\" +location+\"\\n\")\n",
    "        #f.write(title_piece + \",\" + date+ \",\" +art_type+ \",\" +material_used+ \",\" +size+ \",\" +location+\"\\n\")\n",
    "    except:\n",
    "        print(f\"Formating error while parsing for item {i}\")\n",
    "#f.close()"
   ]
  },
  {
   "cell_type": "code",
   "execution_count": null,
   "metadata": {},
   "outputs": [],
   "source": [
    "#SAMPLE CODE FOR MANY PAGE\n",
    "import bs4\n",
    "from urllib.request import urlopen as uReq\n",
    "from bs4 import BeautifulSoup as soup\n",
    "\n",
    "NUMBER_OF_PAGES = 638\n",
    "for k in range(0,NUMBER_OF_PAGES):\n",
    "    my_url = f\"https://www.artprice.com/artist/22796/pablo-picasso/lots/pasts?ipp=100&nbd=5&p={k}&sort=datesale_desc\"\n",
    "    uClient = uReq(my_url)\n",
    "    page_html = uClient.read()\n",
    "    uClient.close()\n",
    "\n",
    "    page_soup = soup(page_html, 'html.parser')\n",
    "    containers = page_soup.findAll(\"div\",{\"class\":\"col-xs-8 col-sm-6\"})\n",
    "\n",
    "    #filename = \"artpieces2.csv\"\n",
    "    #f = open(filename, 'a')\n",
    "\n",
    "    for i in range(0,len(containers)):\n",
    "        try:\n",
    "            title_piece = containers[i].a[\"title\"] #piece title\n",
    "            date = containers[i].date.text.strip()\n",
    "            misc_info = containers[i].findAll(\"p\")[1].text.strip().split(\",\")\n",
    "            art_type = misc_info[0]\n",
    "            material_used = misc_info[1]\n",
    "            size = misc_info[2]\n",
    "            size = size.split(\"in\")[1]\n",
    "            location = containers[i].findAll(\"p\")[5].text.strip()\n",
    "            print(title_piece + \",\" + date+ \",\" +art_type+ \",\" +material_used+ \",\" +size+ \",\" +location+\"\\n\")\n",
    "            #f.write(title_piece + \",\" + date+ \",\" +art_type+ \",\" +material_used+ \",\" +size+ \",\" +location+\"\\n\")\n",
    "        except:\n",
    "            print(f\"Formating error while parsing for item {i} in page {k}\")\n",
    "    #f.close()"
   ]
  },
  {
   "cell_type": "code",
   "execution_count": null,
   "metadata": {},
   "outputs": [],
   "source": []
  },
  {
   "cell_type": "code",
   "execution_count": null,
   "metadata": {},
   "outputs": [],
   "source": []
  },
  {
   "cell_type": "code",
   "execution_count": null,
   "metadata": {},
   "outputs": [],
   "source": []
  },
  {
   "cell_type": "code",
   "execution_count": null,
   "metadata": {},
   "outputs": [],
   "source": []
  },
  {
   "cell_type": "code",
   "execution_count": null,
   "metadata": {},
   "outputs": [],
   "source": []
  },
  {
   "cell_type": "code",
   "execution_count": null,
   "metadata": {},
   "outputs": [],
   "source": []
  },
  {
   "cell_type": "code",
   "execution_count": null,
   "metadata": {},
   "outputs": [],
   "source": []
  }
 ],
 "metadata": {
  "kernelspec": {
   "display_name": "Python 3",
   "language": "python",
   "name": "python3"
  },
  "language_info": {
   "codemirror_mode": {
    "name": "ipython",
    "version": 3
   },
   "file_extension": ".py",
   "mimetype": "text/x-python",
   "name": "python",
   "nbconvert_exporter": "python",
   "pygments_lexer": "ipython3",
   "version": "3.6.7"
  }
 },
 "nbformat": 4,
 "nbformat_minor": 2
}
