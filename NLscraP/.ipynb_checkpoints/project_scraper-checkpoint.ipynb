{
 "cells": [
  {
   "cell_type": "markdown",
   "metadata": {},
   "source": [
    "## ArtPrice - artprice.com"
   ]
  },
  {
   "cell_type": "code",
   "execution_count": null,
   "metadata": {},
   "outputs": [],
   "source": [
    "#SAMPLE CODE FOR 1 PAGE\n",
    "import bs4\n",
    "from urllib.request import urlopen as uReq\n",
    "from bs4 import BeautifulSoup as soup\n",
    "\n",
    "my_url = \"https://www.artprice.com/artist/22796/pablo-picasso/lots/pasts\"\n",
    "uClient = uReq(my_url)\n",
    "page_html = uClient.read()\n",
    "uClient.close()\n",
    "\n",
    "page_soup = soup(page_html, 'html.parser')\n",
    "containers = page_soup.findAll(\"div\",{\"id\":\"main-page-content\"})\n",
    "\n",
    "#filename = \"artpieces_testpage.csv\"\n",
    "#f = open(filename, 'w+')\n",
    "\n",
    "for i in range(0,len(containers)):\n",
    "    try:\n",
    "        title_piece = containers[i].a[\"title\"]\n",
    "        date = containers[i].date.text.strip()\n",
    "        misc_info = containers[i].findAll(\"p\")[1].text.strip().split(\",\")\n",
    "        art_type = misc_info[0]\n",
    "        material_used = misc_info[1]\n",
    "        size = misc_info[2]\n",
    "        size = size.split(\"in\")[1]\n",
    "        location = containers[i].findAll(\"p\")[5].text.strip()\n",
    "        print(title_piece + \",\" + date+ \",\" +art_type+ \",\" +material_used+ \",\" +size+ \",\" +location+\"\\n\")\n",
    "        #f.write(title_piece + \",\" + date+ \",\" +art_type+ \",\" +material_used+ \",\" +size+ \",\" +location+\"\\n\")\n",
    "    except:\n",
    "        print(f\"Formating error while parsing for item {i}\")\n",
    "#f.close()"
   ]
  },
  {
   "cell_type": "code",
   "execution_count": null,
   "metadata": {},
   "outputs": [],
   "source": [
    "#SAMPLE CODE FOR MANY PAGE\n",
    "import bs4\n",
    "from urllib.request import urlopen as uReq\n",
    "from bs4 import BeautifulSoup as soup\n",
    "\n",
    "NUMBER_OF_PAGES = 638\n",
    "for k in range(0,NUMBER_OF_PAGES):\n",
    "    my_url = f\"https://www.artprice.com/artist/22796/pablo-picasso/lots/pasts?ipp=100&nbd=5&p={k}&sort=datesale_desc\"\n",
    "    uClient = uReq(my_url)\n",
    "    page_html = uClient.read()\n",
    "    uClient.close()\n",
    "\n",
    "    page_soup = soup(page_html, 'html.parser')\n",
    "    containers = page_soup.findAll(\"div\",{\"class\":\"col-xs-8 col-sm-6\"})\n",
    "\n",
    "    #filename = \"artpieces2.csv\"\n",
    "    #f = open(filename, 'a')\n",
    "\n",
    "    for i in range(0,len(containers)):\n",
    "        try:\n",
    "            title_piece = containers[i].a[\"title\"] #piece title\n",
    "            date = containers[i].date.text.strip()\n",
    "            misc_info = containers[i].findAll(\"p\")[1].text.strip().split(\",\")\n",
    "            art_type = misc_info[0]\n",
    "            material_used = misc_info[1]\n",
    "            size = misc_info[2]\n",
    "            size = size.split(\"in\")[1]\n",
    "            location = containers[i].findAll(\"p\")[5].text.strip()\n",
    "            print(title_piece + \",\" + date+ \",\" +art_type+ \",\" +material_used+ \",\" +size+ \",\" +location+\"\\n\")\n",
    "            #f.write(title_piece + \",\" + date+ \",\" +art_type+ \",\" +material_used+ \",\" +size+ \",\" +location+\"\\n\")\n",
    "        except:\n",
    "            print(f\"Formating error while parsing for item {i} in page {k}\")\n",
    "    #f.close()"
   ]
  },
  {
   "cell_type": "markdown",
   "metadata": {},
   "source": [
    "## WindGuru - windguru.cz"
   ]
  },
  {
   "cell_type": "code",
   "execution_count": 1,
   "metadata": {},
   "outputs": [],
   "source": [
    "#USING SELENIUM PACKAGE\n",
    "import time\n",
    "from selenium import webdriver\n",
    "import selenium\n",
    "import bs4\n",
    "from bs4 import BeautifulSoup as soup\n",
    "\n",
    "driver = webdriver.Safari()\n",
    "driver.get('https://www.wunderground.com/history/daily/LFPB/date/2018-11-16?req_city=Paris&req_state=75&req_statename=France&reqdb.zip=00000&reqdb.magic=45&reqdb.wmo=07156')\n",
    "\n",
    "#time.sleep(10)\n",
    "page_html = driver.page_source\n",
    "page_soup = soup(page_html, 'html.parser')"
   ]
  },
  {
   "cell_type": "code",
   "execution_count": 2,
   "metadata": {},
   "outputs": [],
   "source": [
    "containers = page_soup.findAll(\"body\")[0].findAll(\"app\")[0].findAll(\"city-history\")[0].findAll(\"city-history-layout\")[0].findAll(\"div\",{\"class\":\"content-wrap right-side-nav\"})\n",
    "containers = containers[0].findAll(\"div\",{\"id\":\"inner-wrap\"})[0].findAll(\"section\")[0].findAll(\"div\",{\"class\":\"city-body\"})[0].findAll(\"div\",{\"class\":\"row city-history-observation\"})[0].findAll(\"div\",{\"class\":\"small-12 columns has-sidebar\"})\n",
    "containers = containers[0].findAll(\"div\",{\"class\":\"row\"})[0].findAll(\"div\",{\"class\":\"small-12 columns\"})"
   ]
  },
  {
   "cell_type": "code",
   "execution_count": 3,
   "metadata": {},
   "outputs": [
    {
     "data": {
      "text/plain": [
       "[<div _ngcontent-c0=\"\" class=\"small-12 columns\">\n",
       " <div class=\"region-content-observation\">\n",
       " <city-history-observation _nghost-c8=\"\"><div _ngcontent-c8=\"\">\n",
       " <div _ngcontent-c8=\"\" class=\"observation-title\">Daily Observations</div>\n",
       " <!-- -->\n",
       "     No Data Recorded\n",
       "   \n",
       "   <!-- -->\n",
       " </div></city-history-observation>\n",
       " </div>\n",
       " </div>]"
      ]
     },
     "execution_count": 3,
     "metadata": {},
     "output_type": "execute_result"
    }
   ],
   "source": [
    "containers"
   ]
  },
  {
   "cell_type": "code",
   "execution_count": null,
   "metadata": {},
   "outputs": [],
   "source": []
  },
  {
   "cell_type": "markdown",
   "metadata": {},
   "source": [
    "## EPL - premierleague.com"
   ]
  },
  {
   "cell_type": "code",
   "execution_count": 168,
   "metadata": {},
   "outputs": [],
   "source": [
    "#EXTRACTING HTML PAGE\n",
    "import bs4\n",
    "from urllib.request import urlopen as uReq\n",
    "from bs4 import BeautifulSoup as soup\n",
    "\n",
    "my_url = \"https://www.premierleague.com/match/7446\"\n",
    "uClient = uReq(my_url)\n",
    "page_html = uClient.read()\n",
    "uClient.close()"
   ]
  },
  {
   "cell_type": "code",
   "execution_count": 26,
   "metadata": {},
   "outputs": [],
   "source": [
    "#SCRAPPING DATA FROM PAGE\n",
    "page_soup = soup(page_html, 'html.parser')\n",
    "table_full = page_soup.findAll(\"body\")[0].findAll(\"main\")[0].findAll(\"div\", {\"class\":\"matchCentre\"})[0].findAll(\"section\")[0].findAll(\"div\", {\"class\":\"centralContent\"})\n",
    "\n",
    "table_score = table_full[0].findAll(\"div\", {\"class\":\"matchScoreContainer\"})[0].text\n",
    "home_score_ft = int(table_score.split(\"-\")[0])\n",
    "away_score_ft = int(table_score.split(\"-\")[1])\n",
    "\n",
    "table_stats = table_full[0].findAll(\"div\",{\"class\":\"halfTime\"})\n",
    "home_score_ht = int(table_stats[0].text.split(\":\")[2].strip().split(\"-\")[0])\n",
    "away_score_ht = int(table_stats[0].text.split(\":\")[2].strip().split(\"-\")[1])\n",
    "\n",
    "table_stats = table_full[0].findAll(\"div\",{\"class\":\"attendance show-m\"})\n",
    "attendance = int(table_stats[0].text.split(\" \")[3].strip().replace(\",\",\"\"))\n",
    "\n",
    "#UNABLE TO DOWNLAOD STATS TABLE (JAVASCRIPT)\n",
    "table_full[0].findAll(\"div\",{\"class\":\"mcTabsContainer\"})[0].findAll(\"section\",{\"data-ui-tab\":\"Stats\"})[0].findAll(\"table\")"
   ]
  },
  {
   "cell_type": "code",
   "execution_count": 8,
   "metadata": {},
   "outputs": [],
   "source": [
    "#USING SELENIUM PACKAGE\n",
    "import time\n",
    "from selenium import webdriver\n",
    "import selenium\n",
    "import bs4\n",
    "from bs4 import BeautifulSoup as soup\n",
    "\n",
    "driver = webdriver.Safari()\n",
    "driver.get('https://www.premierleague.com/match/7446')"
   ]
  },
  {
   "cell_type": "code",
   "execution_count": 16,
   "metadata": {},
   "outputs": [
    {
     "ename": "InvalidSessionIdException",
     "evalue": "Message: \n",
     "output_type": "error",
     "traceback": [
      "\u001b[0;31m---------------------------------------------------------------------------\u001b[0m",
      "\u001b[0;31mInvalidSessionIdException\u001b[0m                 Traceback (most recent call last)",
      "\u001b[0;32m<ipython-input-16-63b25197f80b>\u001b[0m in \u001b[0;36m<module>\u001b[0;34m()\u001b[0m\n\u001b[1;32m      1\u001b[0m \u001b[0;31m#time.sleep(5)\u001b[0m\u001b[0;34m\u001b[0m\u001b[0;34m\u001b[0m\u001b[0m\n\u001b[1;32m      2\u001b[0m \u001b[0;31m#driver.find_element_by_xpath('//*[@id=\"mainContent\"]/div/section/div[2]/div[2]/div[1]/div/div/ul/li[3]').click()\u001b[0m\u001b[0;34m\u001b[0m\u001b[0;34m\u001b[0m\u001b[0m\n\u001b[0;32m----> 3\u001b[0;31m \u001b[0mpage_html\u001b[0m \u001b[0;34m=\u001b[0m \u001b[0mdriver\u001b[0m\u001b[0;34m.\u001b[0m\u001b[0mexecute_script\u001b[0m\u001b[0;34m(\u001b[0m\u001b[0;34m\"return document.documentElement.outerHTML\"\u001b[0m\u001b[0;34m)\u001b[0m\u001b[0;34m\u001b[0m\u001b[0m\n\u001b[0m\u001b[1;32m      4\u001b[0m \u001b[0mpage_soup\u001b[0m \u001b[0;34m=\u001b[0m \u001b[0msoup\u001b[0m\u001b[0;34m(\u001b[0m\u001b[0mpage_html\u001b[0m\u001b[0;34m,\u001b[0m \u001b[0;34m'html.parser'\u001b[0m\u001b[0;34m)\u001b[0m\u001b[0;34m\u001b[0m\u001b[0m\n",
      "\u001b[0;32m~/anaconda3/envs/py36/lib/python3.6/site-packages/selenium/webdriver/remote/webdriver.py\u001b[0m in \u001b[0;36mexecute_script\u001b[0;34m(self, script, *args)\u001b[0m\n\u001b[1;32m    634\u001b[0m         return self.execute(command, {\n\u001b[1;32m    635\u001b[0m             \u001b[0;34m'script'\u001b[0m\u001b[0;34m:\u001b[0m \u001b[0mscript\u001b[0m\u001b[0;34m,\u001b[0m\u001b[0;34m\u001b[0m\u001b[0m\n\u001b[0;32m--> 636\u001b[0;31m             'args': converted_args})['value']\n\u001b[0m\u001b[1;32m    637\u001b[0m \u001b[0;34m\u001b[0m\u001b[0m\n\u001b[1;32m    638\u001b[0m     \u001b[0;32mdef\u001b[0m \u001b[0mexecute_async_script\u001b[0m\u001b[0;34m(\u001b[0m\u001b[0mself\u001b[0m\u001b[0;34m,\u001b[0m \u001b[0mscript\u001b[0m\u001b[0;34m,\u001b[0m \u001b[0;34m*\u001b[0m\u001b[0margs\u001b[0m\u001b[0;34m)\u001b[0m\u001b[0;34m:\u001b[0m\u001b[0;34m\u001b[0m\u001b[0m\n",
      "\u001b[0;32m~/anaconda3/envs/py36/lib/python3.6/site-packages/selenium/webdriver/remote/webdriver.py\u001b[0m in \u001b[0;36mexecute\u001b[0;34m(self, driver_command, params)\u001b[0m\n\u001b[1;32m    319\u001b[0m         \u001b[0mresponse\u001b[0m \u001b[0;34m=\u001b[0m \u001b[0mself\u001b[0m\u001b[0;34m.\u001b[0m\u001b[0mcommand_executor\u001b[0m\u001b[0;34m.\u001b[0m\u001b[0mexecute\u001b[0m\u001b[0;34m(\u001b[0m\u001b[0mdriver_command\u001b[0m\u001b[0;34m,\u001b[0m \u001b[0mparams\u001b[0m\u001b[0;34m)\u001b[0m\u001b[0;34m\u001b[0m\u001b[0m\n\u001b[1;32m    320\u001b[0m         \u001b[0;32mif\u001b[0m \u001b[0mresponse\u001b[0m\u001b[0;34m:\u001b[0m\u001b[0;34m\u001b[0m\u001b[0m\n\u001b[0;32m--> 321\u001b[0;31m             \u001b[0mself\u001b[0m\u001b[0;34m.\u001b[0m\u001b[0merror_handler\u001b[0m\u001b[0;34m.\u001b[0m\u001b[0mcheck_response\u001b[0m\u001b[0;34m(\u001b[0m\u001b[0mresponse\u001b[0m\u001b[0;34m)\u001b[0m\u001b[0;34m\u001b[0m\u001b[0m\n\u001b[0m\u001b[1;32m    322\u001b[0m             response['value'] = self._unwrap_value(\n\u001b[1;32m    323\u001b[0m                 response.get('value', None))\n",
      "\u001b[0;32m~/anaconda3/envs/py36/lib/python3.6/site-packages/selenium/webdriver/remote/errorhandler.py\u001b[0m in \u001b[0;36mcheck_response\u001b[0;34m(self, response)\u001b[0m\n\u001b[1;32m    240\u001b[0m                 \u001b[0malert_text\u001b[0m \u001b[0;34m=\u001b[0m \u001b[0mvalue\u001b[0m\u001b[0;34m[\u001b[0m\u001b[0;34m'alert'\u001b[0m\u001b[0;34m]\u001b[0m\u001b[0;34m.\u001b[0m\u001b[0mget\u001b[0m\u001b[0;34m(\u001b[0m\u001b[0;34m'text'\u001b[0m\u001b[0;34m)\u001b[0m\u001b[0;34m\u001b[0m\u001b[0m\n\u001b[1;32m    241\u001b[0m             \u001b[0;32mraise\u001b[0m \u001b[0mexception_class\u001b[0m\u001b[0;34m(\u001b[0m\u001b[0mmessage\u001b[0m\u001b[0;34m,\u001b[0m \u001b[0mscreen\u001b[0m\u001b[0;34m,\u001b[0m \u001b[0mstacktrace\u001b[0m\u001b[0;34m,\u001b[0m \u001b[0malert_text\u001b[0m\u001b[0;34m)\u001b[0m\u001b[0;34m\u001b[0m\u001b[0m\n\u001b[0;32m--> 242\u001b[0;31m         \u001b[0;32mraise\u001b[0m \u001b[0mexception_class\u001b[0m\u001b[0;34m(\u001b[0m\u001b[0mmessage\u001b[0m\u001b[0;34m,\u001b[0m \u001b[0mscreen\u001b[0m\u001b[0;34m,\u001b[0m \u001b[0mstacktrace\u001b[0m\u001b[0;34m)\u001b[0m\u001b[0;34m\u001b[0m\u001b[0m\n\u001b[0m\u001b[1;32m    243\u001b[0m \u001b[0;34m\u001b[0m\u001b[0m\n\u001b[1;32m    244\u001b[0m     \u001b[0;32mdef\u001b[0m \u001b[0m_value_or_default\u001b[0m\u001b[0;34m(\u001b[0m\u001b[0mself\u001b[0m\u001b[0;34m,\u001b[0m \u001b[0mobj\u001b[0m\u001b[0;34m,\u001b[0m \u001b[0mkey\u001b[0m\u001b[0;34m,\u001b[0m \u001b[0mdefault\u001b[0m\u001b[0;34m)\u001b[0m\u001b[0;34m:\u001b[0m\u001b[0;34m\u001b[0m\u001b[0m\n",
      "\u001b[0;31mInvalidSessionIdException\u001b[0m: Message: \n"
     ]
    }
   ],
   "source": [
    "#time.sleep(5)\n",
    "page_html = driver.execute_script(\"return document.documentElement.outerHTML\")\n",
    "page_soup = soup(page_html, 'html.parser')\n",
    "python_button = driver.find_element_by_xpath('//*[@id=\"mainContent\"]/div/section/div[2]/div[2]/div[1]/div/div/ul/li[3]')\n",
    "python_button.click()\n",
    "#driver.find_element_by_xpath('//*[@id=\"mainContent\"]/div/section/div[2]/div[2]/div[1]/div/div/ul/li[3]').click()"
   ]
  },
  {
   "cell_type": "code",
   "execution_count": 5,
   "metadata": {},
   "outputs": [],
   "source": []
  },
  {
   "cell_type": "code",
   "execution_count": null,
   "metadata": {},
   "outputs": [],
   "source": []
  },
  {
   "cell_type": "code",
   "execution_count": null,
   "metadata": {},
   "outputs": [],
   "source": []
  }
 ],
 "metadata": {
  "kernelspec": {
   "display_name": "Python 3",
   "language": "python",
   "name": "python3"
  },
  "language_info": {
   "codemirror_mode": {
    "name": "ipython",
    "version": 3
   },
   "file_extension": ".py",
   "mimetype": "text/x-python",
   "name": "python",
   "nbconvert_exporter": "python",
   "pygments_lexer": "ipython3",
   "version": "3.6.5"
  }
 },
 "nbformat": 4,
 "nbformat_minor": 2
}
