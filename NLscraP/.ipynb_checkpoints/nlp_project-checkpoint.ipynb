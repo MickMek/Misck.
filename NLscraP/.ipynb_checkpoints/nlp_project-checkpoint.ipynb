{
 "cells": [
  {
   "cell_type": "code",
   "execution_count": 11,
   "metadata": {},
   "outputs": [
    {
     "name": "stdout",
     "output_type": "stream",
     "text": [
      "================\n",
      "https://cuisine.journaldesfemmes.fr/recette-dessert\n",
      "['Recettes de desserts faciles et rapides']\n",
      "['Les meilleures recettes desserts, classiques ou originaux, à réaliser rapidement et facilement à la maison.']\n",
      "================\n",
      "================\n",
      "https://droit-finances.commentcamarche.com/faq/15494-salaire-d-une-assistante-maternelle-ce-qu-il-faut-savoir\n",
      "[\"Salaire d'une assistante maternelle : ce qu'il faut savoir\"]\n",
      "[\"La rémunération des assistantes maternelles (salaire horaire, indemnités d'entretien et de nourriture...) doit respecter certains montants minimum. Voici un point sur les droits de l'assistante maternelle et les obligations des parents en...\"]\n",
      "================\n",
      "================\n",
      "http://premium.lefigaro.fr/\n",
      "['Le Figaro Premium - Actualité']\n",
      "['Accédez à l’intégralité des articles du Figaro en illimité. Politique, économie, culture, international… Retrouvez les analyses, les investigations et les enquêtes\\nexclusives réservées aux abonnés pour tout savoir et tout comprendre. Profitez également du journal en version numérique dès 22h.']\n",
      "================\n",
      "Skipped url 3, error scrapping\n",
      "================\n",
      "https://www.commentcamarche.net/faq/8887-voir-ses-factures-free-mon-compte\n",
      "['Voir ses factures Free - Mon compte']\n",
      "[\"Voir le tutoriel en vidéo : Télécharger l'application Free Mon compte pour iPhone, puis saisir son numéro de téléphone et son mot de passe sur l'écran d'accueil. Télécharger l'application officiel Free Mon compte pour Android...\"]\n",
      "================\n",
      "================\n",
      "https://droit-finances.commentcamarche.com/faq/13909-avenant-au-contrat-de-travail-refus-et-droits-des-salaries\n",
      "['Avenant au contrat de travail : refus et droits des salariés']\n",
      "[\"Un avenant au contrat de travail peut parfois être refusé par le salarié. Voici ses droits et ses obligations lorsque l'employeur lui demande de signer ce type de document. Avant toute chose, le salarié doit savoir que le régime juridique...\"]\n",
      "================\n",
      "================\n",
      "https://droit-finances.commentcamarche.com/forum/affich-5732576-ne-pas-declarer-ses-revenus-a-pole-emploi\n",
      "['Ne pas déclarer ses revenus à pôle emploi [Résolu]']\n",
      "['Meilleure réponse: Bonsoir, La déclaration mensuelle est obligatoire et doit comportée impérativement tous les revenus que vous avez pu touché pour que justement Pôle Emploi puisse calculé vos droits. Pensez à ceci : Votre employeur va vous déclaré...']\n",
      "================\n",
      "================\n",
      "https://droit-finances.commentcamarche.com/faq/7527-allocation-de-rentree-scolaire-ars-2019\n",
      "['Allocation de rentrée scolaire (ARS 2019)']\n",
      "[\"Qui a droit à l'allocation de rentrée scolaire 2019 - 2020 (ARS). Les conditions à remplir pour percevoir la prime de rentrée scolaire. Montant et date de versement de l'ARS en 2019. Les parents qui remplissent les conditions qui suivent...\"]\n",
      "================\n",
      "================\n",
      "https://cuisine.journaldesfemmes.fr/recette/324798-pate-a-crepe\n",
      "['Pâte à crêpe très simple']\n",
      "[\"Elle est simple à réaliser même pour un débutant en cuisine et prend peu de temps à préparer. Pour vous aider j'ai essayé d'être le plus clair possible, en vous guidant étape par étape pour la préparation de vos crêpes.\"]\n",
      "================\n",
      "================\n",
      "https://droit-finances.commentcamarche.com/faq/4843-aah-2019-montant-et-plafonds-de-ressources\n",
      "['AAH 2019 : montant et plafonds de ressources']\n",
      "[\"Le montant maximum de l'allocation aux adultes handicapés (AAH 2019) est de 860 euros depuis le 1er novembre 2018, date de sa dernière augmentation. Ce montant correspond à l'aide touchée par un bénéficiaire sans ressource. L'AAH est en...\"]\n",
      "================\n"
     ]
    }
   ],
   "source": [
    "import pandas as pd\n",
    "from lxml import html\n",
    "import requests\n",
    "\n",
    "filename = \"scrapped_url.csv\"\n",
    "df = pd.read_csv(\"data.csv\")\n",
    "df = df[0:10]\n",
    "\n",
    "for i in range(0,len(df)):\n",
    "    try:\n",
    "        url_addr = df.iloc[i,0]\n",
    "        page = requests.get(f\"{url_addr}\")\n",
    "        tree = html.fromstring(page.content)\n",
    "        page_url = page.url\n",
    "        title = tree.xpath('//html/head/title/text()')\n",
    "        description = tree.xpath('//html/head/meta[@name=\"description\"]/@content')\n",
    "        ## ACTIVATE THIS TO SAVE TO scrapped_url.csv\n",
    "        \n",
    "        #with open(filename, 'a') as f:\n",
    "        #    f.write(f\"{page_url.replace(',',';')},{title.replace(',',';')},{description.replace(',',';')} \\n\")\n",
    "        #self.log(f\"scrap added to {filename}\")\n",
    "        print(\"================\")\n",
    "        print(page_url)\n",
    "        print(title)\n",
    "        print(description)\n",
    "        #print(f\"{page_url.replace(',',';')},{title.replace(',',';')},{description.replace(',',';')} \\n\")\n",
    "        print(\"================\")\n",
    "    except:\n",
    "        print(f\"Skipped url {i}, error scrapping\")"
   ]
  },
  {
   "cell_type": "code",
   "execution_count": null,
   "metadata": {},
   "outputs": [],
   "source": [
    "#Preprocessing URL data and creating data2.csv\n",
    "import pandas as pd\n",
    "\n",
    "df = pd.read_csv(\"scrapped_url.csv\", delimiter=\",\")\n",
    "df = df.dropna(subset=['title', 'description']).drop(columns=\"Unnamed: 3\")\n",
    "\n",
    "for i in range(0,len(df)):\n",
    "    # taking care of www., .com, http and https.. and tokenizing\n",
    "    if df.iloc[i,0][4]==\"s\":\n",
    "        df.iloc[i,0] = str(df.iloc[i,0][8:]).replace(\"www.\",\"\").replace(\".comment\",\". comment\").replace(\".madame\",\". madame\").replace(\".com\",\"\").replace(\".php\",\"\").replace(\".fr\",\"\").replace(\".html\",\"\").replace(\".\",\" \").replace(\"-\",\" \").replace(\"0\",\"\").replace(\"1\",\"\").replace(\"2\",\"\").replace(\"3\",\"\").replace(\"4\",\"\").replace(\"5\",\"\").replace(\"6\",\"\").replace(\"7\",\"\").replace(\"8\",\"\").replace(\"9\",\"\").strip().split(\"/\")\n",
    "        df.iloc[i,0] = str(\" \".join(df.iloc[i,0]).strip().replace(\"     \",\" \").replace(\"  \",\" \").lower().replace(\" artfig\",\"\")).split(\" \")\n",
    "    else:\n",
    "        df.iloc[i,0] = str(df.iloc[i,0][7:]).replace(\"www.\",\"\").replace(\".comment\",\". comment\").replace(\".madame\",\". madame\").replace(\".com\",\"\").replace(\".php\",\"\").replace(\".fr\",\"\").replace(\".html\",\"\").replace(\".\",\" \").replace(\"-\",\" \").replace(\"0\",\"\").replace(\"1\",\"\").replace(\"2\",\"\").replace(\"3\",\"\").replace(\"4\",\"\").replace(\"5\",\"\").replace(\"6\",\"\").replace(\"7\",\"\").replace(\"8\",\"\").replace(\"9\",\"\").strip().split(\"/\")\n",
    "        df.iloc[i,0] = str(\" \".join(df.iloc[i,0]).strip().replace(\"     \",\" \").replace(\"  \",\" \").lower().replace(\" artfig\",\"\")).split(\" \")\n",
    "\n",
    "df.to_csv(\"data2.csv\")"
   ]
  },
  {
   "cell_type": "code",
   "execution_count": 12,
   "metadata": {},
   "outputs": [
    {
     "ename": "KeyboardInterrupt",
     "evalue": "",
     "output_type": "error",
     "traceback": [
      "\u001b[0;31m---------------------------------------------------------------------------\u001b[0m",
      "\u001b[0;31mKeyboardInterrupt\u001b[0m                         Traceback (most recent call last)",
      "\u001b[0;32m<ipython-input-12-6a06943d71c7>\u001b[0m in \u001b[0;36m<module>\u001b[0;34m()\u001b[0m\n\u001b[1;32m     24\u001b[0m \u001b[0;34m\u001b[0m\u001b[0m\n\u001b[1;32m     25\u001b[0m \u001b[0mNUM_TOPICS\u001b[0m \u001b[0;34m=\u001b[0m \u001b[0;36m9\u001b[0m\u001b[0;34m\u001b[0m\u001b[0;34m\u001b[0m\u001b[0m\n\u001b[0;32m---> 26\u001b[0;31m \u001b[0mldamodel\u001b[0m \u001b[0;34m=\u001b[0m \u001b[0mgensim\u001b[0m\u001b[0;34m.\u001b[0m\u001b[0mmodels\u001b[0m\u001b[0;34m.\u001b[0m\u001b[0mldamodel\u001b[0m\u001b[0;34m.\u001b[0m\u001b[0mLdaModel\u001b[0m\u001b[0;34m(\u001b[0m\u001b[0mcorpus\u001b[0m\u001b[0;34m,\u001b[0m \u001b[0mnum_topics\u001b[0m \u001b[0;34m=\u001b[0m \u001b[0mNUM_TOPICS\u001b[0m\u001b[0;34m,\u001b[0m \u001b[0mid2word\u001b[0m\u001b[0;34m=\u001b[0m\u001b[0mdictionary\u001b[0m\u001b[0;34m,\u001b[0m \u001b[0mpasses\u001b[0m\u001b[0;34m=\u001b[0m\u001b[0;36m15\u001b[0m\u001b[0;34m)\u001b[0m\u001b[0;34m\u001b[0m\u001b[0;34m\u001b[0m\u001b[0m\n\u001b[0m\u001b[1;32m     27\u001b[0m \u001b[0;31m#ldamodel.save(f\"model{NUM_TOPICS}.gensim\")\u001b[0m\u001b[0;34m\u001b[0m\u001b[0;34m\u001b[0m\u001b[0;34m\u001b[0m\u001b[0m\n",
      "\u001b[0;32m~/anaconda3/envs/py36/lib/python3.6/site-packages/gensim/models/ldamodel.py\u001b[0m in \u001b[0;36m__init__\u001b[0;34m(self, corpus, num_topics, id2word, distributed, chunksize, passes, update_every, alpha, eta, decay, offset, eval_every, iterations, gamma_threshold, minimum_probability, random_state, ns_conf, minimum_phi_value, per_word_topics, callbacks, dtype)\u001b[0m\n\u001b[1;32m    517\u001b[0m         \u001b[0;32mif\u001b[0m \u001b[0mcorpus\u001b[0m \u001b[0;32mis\u001b[0m \u001b[0;32mnot\u001b[0m \u001b[0;32mNone\u001b[0m\u001b[0;34m:\u001b[0m\u001b[0;34m\u001b[0m\u001b[0;34m\u001b[0m\u001b[0m\n\u001b[1;32m    518\u001b[0m             \u001b[0muse_numpy\u001b[0m \u001b[0;34m=\u001b[0m \u001b[0mself\u001b[0m\u001b[0;34m.\u001b[0m\u001b[0mdispatcher\u001b[0m \u001b[0;32mis\u001b[0m \u001b[0;32mnot\u001b[0m \u001b[0;32mNone\u001b[0m\u001b[0;34m\u001b[0m\u001b[0;34m\u001b[0m\u001b[0m\n\u001b[0;32m--> 519\u001b[0;31m             \u001b[0mself\u001b[0m\u001b[0;34m.\u001b[0m\u001b[0mupdate\u001b[0m\u001b[0;34m(\u001b[0m\u001b[0mcorpus\u001b[0m\u001b[0;34m,\u001b[0m \u001b[0mchunks_as_numpy\u001b[0m\u001b[0;34m=\u001b[0m\u001b[0muse_numpy\u001b[0m\u001b[0;34m)\u001b[0m\u001b[0;34m\u001b[0m\u001b[0;34m\u001b[0m\u001b[0m\n\u001b[0m\u001b[1;32m    520\u001b[0m \u001b[0;34m\u001b[0m\u001b[0m\n\u001b[1;32m    521\u001b[0m     \u001b[0;32mdef\u001b[0m \u001b[0minit_dir_prior\u001b[0m\u001b[0;34m(\u001b[0m\u001b[0mself\u001b[0m\u001b[0;34m,\u001b[0m \u001b[0mprior\u001b[0m\u001b[0;34m,\u001b[0m \u001b[0mname\u001b[0m\u001b[0;34m)\u001b[0m\u001b[0;34m:\u001b[0m\u001b[0;34m\u001b[0m\u001b[0;34m\u001b[0m\u001b[0m\n",
      "\u001b[0;32m~/anaconda3/envs/py36/lib/python3.6/site-packages/gensim/models/ldamodel.py\u001b[0m in \u001b[0;36mupdate\u001b[0;34m(self, corpus, chunksize, decay, offset, passes, update_every, eval_every, iterations, gamma_threshold, chunks_as_numpy)\u001b[0m\n\u001b[1;32m    978\u001b[0m                         \u001b[0mpass_\u001b[0m\u001b[0;34m,\u001b[0m \u001b[0mchunk_no\u001b[0m \u001b[0;34m*\u001b[0m \u001b[0mchunksize\u001b[0m \u001b[0;34m+\u001b[0m \u001b[0mlen\u001b[0m\u001b[0;34m(\u001b[0m\u001b[0mchunk\u001b[0m\u001b[0;34m)\u001b[0m\u001b[0;34m,\u001b[0m \u001b[0mlencorpus\u001b[0m\u001b[0;34m\u001b[0m\u001b[0;34m\u001b[0m\u001b[0m\n\u001b[1;32m    979\u001b[0m                     )\n\u001b[0;32m--> 980\u001b[0;31m                     \u001b[0mgammat\u001b[0m \u001b[0;34m=\u001b[0m \u001b[0mself\u001b[0m\u001b[0;34m.\u001b[0m\u001b[0mdo_estep\u001b[0m\u001b[0;34m(\u001b[0m\u001b[0mchunk\u001b[0m\u001b[0;34m,\u001b[0m \u001b[0mother\u001b[0m\u001b[0;34m)\u001b[0m\u001b[0;34m\u001b[0m\u001b[0;34m\u001b[0m\u001b[0m\n\u001b[0m\u001b[1;32m    981\u001b[0m \u001b[0;34m\u001b[0m\u001b[0m\n\u001b[1;32m    982\u001b[0m                     \u001b[0;32mif\u001b[0m \u001b[0mself\u001b[0m\u001b[0;34m.\u001b[0m\u001b[0moptimize_alpha\u001b[0m\u001b[0;34m:\u001b[0m\u001b[0;34m\u001b[0m\u001b[0;34m\u001b[0m\u001b[0m\n",
      "\u001b[0;32m~/anaconda3/envs/py36/lib/python3.6/site-packages/gensim/models/ldamodel.py\u001b[0m in \u001b[0;36mdo_estep\u001b[0;34m(self, chunk, state)\u001b[0m\n\u001b[1;32m    740\u001b[0m         \u001b[0;32mif\u001b[0m \u001b[0mstate\u001b[0m \u001b[0;32mis\u001b[0m \u001b[0;32mNone\u001b[0m\u001b[0;34m:\u001b[0m\u001b[0;34m\u001b[0m\u001b[0;34m\u001b[0m\u001b[0m\n\u001b[1;32m    741\u001b[0m             \u001b[0mstate\u001b[0m \u001b[0;34m=\u001b[0m \u001b[0mself\u001b[0m\u001b[0;34m.\u001b[0m\u001b[0mstate\u001b[0m\u001b[0;34m\u001b[0m\u001b[0;34m\u001b[0m\u001b[0m\n\u001b[0;32m--> 742\u001b[0;31m         \u001b[0mgamma\u001b[0m\u001b[0;34m,\u001b[0m \u001b[0msstats\u001b[0m \u001b[0;34m=\u001b[0m \u001b[0mself\u001b[0m\u001b[0;34m.\u001b[0m\u001b[0minference\u001b[0m\u001b[0;34m(\u001b[0m\u001b[0mchunk\u001b[0m\u001b[0;34m,\u001b[0m \u001b[0mcollect_sstats\u001b[0m\u001b[0;34m=\u001b[0m\u001b[0;32mTrue\u001b[0m\u001b[0;34m)\u001b[0m\u001b[0;34m\u001b[0m\u001b[0;34m\u001b[0m\u001b[0m\n\u001b[0m\u001b[1;32m    743\u001b[0m         \u001b[0mstate\u001b[0m\u001b[0;34m.\u001b[0m\u001b[0msstats\u001b[0m \u001b[0;34m+=\u001b[0m \u001b[0msstats\u001b[0m\u001b[0;34m\u001b[0m\u001b[0;34m\u001b[0m\u001b[0m\n\u001b[1;32m    744\u001b[0m         \u001b[0mstate\u001b[0m\u001b[0;34m.\u001b[0m\u001b[0mnumdocs\u001b[0m \u001b[0;34m+=\u001b[0m \u001b[0mgamma\u001b[0m\u001b[0;34m.\u001b[0m\u001b[0mshape\u001b[0m\u001b[0;34m[\u001b[0m\u001b[0;36m0\u001b[0m\u001b[0;34m]\u001b[0m  \u001b[0;31m# avoids calling len(chunk) on a generator\u001b[0m\u001b[0;34m\u001b[0m\u001b[0;34m\u001b[0m\u001b[0m\n",
      "\u001b[0;32m~/anaconda3/envs/py36/lib/python3.6/site-packages/gensim/models/ldamodel.py\u001b[0m in \u001b[0;36minference\u001b[0;34m(self, chunk, collect_sstats)\u001b[0m\n\u001b[1;32m    705\u001b[0m                 \u001b[0;31m# Contribution of document d to the expected sufficient\u001b[0m\u001b[0;34m\u001b[0m\u001b[0;34m\u001b[0m\u001b[0;34m\u001b[0m\u001b[0m\n\u001b[1;32m    706\u001b[0m                 \u001b[0;31m# statistics for the M step.\u001b[0m\u001b[0;34m\u001b[0m\u001b[0;34m\u001b[0m\u001b[0;34m\u001b[0m\u001b[0m\n\u001b[0;32m--> 707\u001b[0;31m                 \u001b[0msstats\u001b[0m\u001b[0;34m[\u001b[0m\u001b[0;34m:\u001b[0m\u001b[0;34m,\u001b[0m \u001b[0mids\u001b[0m\u001b[0;34m]\u001b[0m \u001b[0;34m+=\u001b[0m \u001b[0mnp\u001b[0m\u001b[0;34m.\u001b[0m\u001b[0mouter\u001b[0m\u001b[0;34m(\u001b[0m\u001b[0mexpElogthetad\u001b[0m\u001b[0;34m.\u001b[0m\u001b[0mT\u001b[0m\u001b[0;34m,\u001b[0m \u001b[0mcts\u001b[0m \u001b[0;34m/\u001b[0m \u001b[0mphinorm\u001b[0m\u001b[0;34m)\u001b[0m\u001b[0;34m\u001b[0m\u001b[0;34m\u001b[0m\u001b[0m\n\u001b[0m\u001b[1;32m    708\u001b[0m \u001b[0;34m\u001b[0m\u001b[0m\n\u001b[1;32m    709\u001b[0m         \u001b[0;32mif\u001b[0m \u001b[0mlen\u001b[0m\u001b[0;34m(\u001b[0m\u001b[0mchunk\u001b[0m\u001b[0;34m)\u001b[0m \u001b[0;34m>\u001b[0m \u001b[0;36m1\u001b[0m\u001b[0;34m:\u001b[0m\u001b[0;34m\u001b[0m\u001b[0;34m\u001b[0m\u001b[0m\n",
      "\u001b[0;32m~/anaconda3/envs/py36/lib/python3.6/site-packages/numpy/core/numeric.py\u001b[0m in \u001b[0;36mouter\u001b[0;34m(a, b, out)\u001b[0m\n\u001b[1;32m   1127\u001b[0m     \u001b[0ma\u001b[0m \u001b[0;34m=\u001b[0m \u001b[0masarray\u001b[0m\u001b[0;34m(\u001b[0m\u001b[0ma\u001b[0m\u001b[0;34m)\u001b[0m\u001b[0;34m\u001b[0m\u001b[0;34m\u001b[0m\u001b[0m\n\u001b[1;32m   1128\u001b[0m     \u001b[0mb\u001b[0m \u001b[0;34m=\u001b[0m \u001b[0masarray\u001b[0m\u001b[0;34m(\u001b[0m\u001b[0mb\u001b[0m\u001b[0;34m)\u001b[0m\u001b[0;34m\u001b[0m\u001b[0;34m\u001b[0m\u001b[0m\n\u001b[0;32m-> 1129\u001b[0;31m     \u001b[0;32mreturn\u001b[0m \u001b[0mmultiply\u001b[0m\u001b[0;34m(\u001b[0m\u001b[0ma\u001b[0m\u001b[0;34m.\u001b[0m\u001b[0mravel\u001b[0m\u001b[0;34m(\u001b[0m\u001b[0;34m)\u001b[0m\u001b[0;34m[\u001b[0m\u001b[0;34m:\u001b[0m\u001b[0;34m,\u001b[0m \u001b[0mnewaxis\u001b[0m\u001b[0;34m]\u001b[0m\u001b[0;34m,\u001b[0m \u001b[0mb\u001b[0m\u001b[0;34m.\u001b[0m\u001b[0mravel\u001b[0m\u001b[0;34m(\u001b[0m\u001b[0;34m)\u001b[0m\u001b[0;34m[\u001b[0m\u001b[0mnewaxis\u001b[0m\u001b[0;34m,\u001b[0m \u001b[0;34m:\u001b[0m\u001b[0;34m]\u001b[0m\u001b[0;34m,\u001b[0m \u001b[0mout\u001b[0m\u001b[0;34m)\u001b[0m\u001b[0;34m\u001b[0m\u001b[0;34m\u001b[0m\u001b[0m\n\u001b[0m\u001b[1;32m   1130\u001b[0m \u001b[0;34m\u001b[0m\u001b[0m\n\u001b[1;32m   1131\u001b[0m \u001b[0;34m\u001b[0m\u001b[0m\n",
      "\u001b[0;31mKeyboardInterrupt\u001b[0m: "
     ]
    }
   ],
   "source": [
    "import gensim\n",
    "import pandas as pd\n",
    "from gensim import corpora\n",
    "import pickle\n",
    "\n",
    "df = pd.read_csv(\"data2.csv\")\n",
    "unallowed_words = [\"lefigaro\",\"linternaute\",\"commentcamarche\",\"journaldunet\",\"lachainemeteo\",\"linternaute\"]\n",
    "\n",
    "def preprocess(text):\n",
    "    result = []\n",
    "    for token in gensim.utils.simple_preprocess(text):\n",
    "        if token not in gensim.parsing.preprocessing.STOPWORDS and len(token) > 3 and token not in unallowed_words:\n",
    "            result.append(token)\n",
    "    return result\n",
    "\n",
    "processed_url = df['url_clean'].map(preprocess)\n",
    "processed_url\n",
    "\n",
    "dictionary = corpora.Dictionary(processed_url)\n",
    "corpus = [dictionary.doc2bow(text) for text in processed_url]\n",
    "\n",
    "pickle.dump(corpus, open('corpus.pkl', 'wb'))\n",
    "#dictionary.save('dictionary.gensim')\n",
    "\n",
    "NUM_TOPICS = 9\n",
    "ldamodel = gensim.models.ldamodel.LdaModel(corpus, num_topics = NUM_TOPICS, id2word=dictionary, passes=15)\n",
    "#ldamodel.save(f\"model{NUM_TOPICS}.gensim\")"
   ]
  },
  {
   "cell_type": "code",
   "execution_count": null,
   "metadata": {},
   "outputs": [],
   "source": [
    "for idx, topic in ldamodel.print_topics(-1):\n",
    "    print('Topic: {} \\nWords: {}'.format(idx, topic))"
   ]
  },
  {
   "cell_type": "code",
   "execution_count": null,
   "metadata": {},
   "outputs": [],
   "source": [
    "topics = ldamodel.print_topics(num_words=1)\n",
    "for topic in topics:\n",
    "    print(topic)"
   ]
  }
 ],
 "metadata": {
  "kernelspec": {
   "display_name": "Python 3",
   "language": "python",
   "name": "python3"
  },
  "language_info": {
   "codemirror_mode": {
    "name": "ipython",
    "version": 3
   },
   "file_extension": ".py",
   "mimetype": "text/x-python",
   "name": "python",
   "nbconvert_exporter": "python",
   "pygments_lexer": "ipython3",
   "version": "3.6.7"
  }
 },
 "nbformat": 4,
 "nbformat_minor": 2
}
