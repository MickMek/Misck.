{
 "cells": [
  {
   "cell_type": "markdown",
   "metadata": {},
   "source": [
    "## Cleaning Dataset"
   ]
  },
  {
   "cell_type": "code",
   "execution_count": null,
   "metadata": {},
   "outputs": [],
   "source": [
    "import pandas as pd\n",
    "from datetime import datetime\n",
    "import numpy as np\n",
    "\n",
    "df=pd.read_csv('a-warhol_artpieces.csv',delimiter=None,header=[0]\n",
    "               #sep='delimiter', header=None\n",
    "              )"
   ]
  },
  {
   "cell_type": "code",
   "execution_count": null,
   "metadata": {},
   "outputs": [],
   "source": [
    "#REMOVING ROWS WITH MORE THAN 10 COLUMNS\n",
    "k=pd.DataFrame()\n",
    "for i in range(0,len(df)-1):\n",
    "    if type(df.iloc[i,11]) is not type(df.iloc[0,11]):\n",
    "        print(df.iloc[i])\n",
    "        k=k.append([i])\n",
    "k=k.transpose()\n",
    "h = list(k.iloc[0,j] for j in range(0,len(k.columns)))\n",
    "df=df.drop(h,axis=0)\n",
    "try:\n",
    "    df = df.drop(columns=['12'],axis=1)\n",
    "except:\n",
    "    print(\"No columns removed\")\n",
    "try:\n",
    "    df = df.drop(columns=['13'],axis=1)\n",
    "    print(\"2 columns removed\")\n",
    "except:\n",
    "    print(\"1 column removed\")"
   ]
  },
  {
   "cell_type": "code",
   "execution_count": null,
   "metadata": {},
   "outputs": [],
   "source": [
    "#TESTING IF THEIR IS STILL WRONG FORMATTED DATA (MUST RETURN EMPTY)\n",
    "k=pd.DataFrame()\n",
    "for i in range(0,len(df)-1):\n",
    "    if type(df.iloc[i,11]) is not type(df.iloc[0,11]):\n",
    "        print(df.iloc[i])\n",
    "        k=k.append(pd.DataFrame([i]))\n",
    "k=k.transpose()\n",
    "print(k)"
   ]
  },
  {
   "cell_type": "code",
   "execution_count": null,
   "metadata": {},
   "outputs": [],
   "source": [
    "#PREPARING DATASET\n",
    "from tqdm import tqdm\n",
    "\n",
    "max_k=0\n",
    "for i in tqdm(range(0,len(df))):\n",
    "    if len(df.iloc[i,4].split(\"x\")) > 1:\n",
    "        df.loc[i,11] = df.iloc[i,4].split(\"x\")[0].strip()\n",
    "        df.loc[i,12] = df.iloc[i,4].split(\"x\")[1].strip().split(\" \")[0]\n",
    "        try:\n",
    "            df.loc[i,13] = df.iloc[i,4].split(\"x\")[2].strip().split(\" \")[0]\n",
    "        except:\n",
    "            df.loc[i,13] = np.nan\n",
    "    else:\n",
    "        df.loc[i,11] = df.iloc[i,4].strip().replace(\"Ø\", \"\").strip().split(\" \")[0]\n",
    "    if len(df.iloc[i,3].split(\"/\")) > 1:\n",
    "        itr = len(df.iloc[i,3].split(\"/\"))\n",
    "        for k in range(0,itr):\n",
    "            df.loc[i,14+k] = df.iloc[i,3].split(\"/\")[k]\n",
    "        if k>max_k:\n",
    "            max_k=k\n",
    "    else:\n",
    "        df.loc[i,14] = df.iloc[i,3]\n",
    "df = df.drop(['5'],axis=1)\n",
    "df = df.drop(['4'],axis=1)\n",
    "cols = ['title_piece','year','art_type',\n",
    "        'low_est','high_est','hammer_price','auction_name','auction_date','auction_location',\n",
    "        'size_dim1','size_dim2','size_dim3']\n",
    "for j in range(1,max_k+2):\n",
    "    cols = cols+[f\"material{j}\"]\n",
    "df.columns = cols\n",
    "\n",
    "#REMOVING NaN from size features/replacing with 0\n",
    "df[\"size_dim3\"] = df[\"size_dim3\"].fillna(0)\n",
    "df[\"size_dim2\"] = df[\"size_dim2\"].fillna(0)\n",
    "df[\"size_dim1\"] = df[\"size_dim1\"].fillna(0)"
   ]
  },
  {
   "cell_type": "code",
   "execution_count": null,
   "metadata": {},
   "outputs": [],
   "source": [
    "df"
   ]
  },
  {
   "cell_type": "code",
   "execution_count": null,
   "metadata": {},
   "outputs": [],
   "source": [
    "df.to_csv(\"clean_a-warhol_data.csv\")"
   ]
  },
  {
   "cell_type": "code",
   "execution_count": null,
   "metadata": {},
   "outputs": [],
   "source": []
  },
  {
   "cell_type": "code",
   "execution_count": null,
   "metadata": {},
   "outputs": [],
   "source": []
  },
  {
   "cell_type": "code",
   "execution_count": null,
   "metadata": {},
   "outputs": [],
   "source": []
  },
  {
   "cell_type": "code",
   "execution_count": null,
   "metadata": {},
   "outputs": [],
   "source": []
  }
 ],
 "metadata": {
  "kernelspec": {
   "display_name": "Python 3",
   "language": "python",
   "name": "python3"
  },
  "language_info": {
   "codemirror_mode": {
    "name": "ipython",
    "version": 3
   },
   "file_extension": ".py",
   "mimetype": "text/x-python",
   "name": "python",
   "nbconvert_exporter": "python",
   "pygments_lexer": "ipython3",
   "version": "3.6.5"
  }
 },
 "nbformat": 4,
 "nbformat_minor": 2
}
