{
 "cells": [
  {
   "cell_type": "code",
   "execution_count": 16,
   "metadata": {},
   "outputs": [
    {
     "name": "stderr",
     "output_type": "stream",
     "text": [
      "/Users/home/anaconda3/envs/py36/lib/python3.6/site-packages/ipykernel_launcher.py:6: ParserWarning: Falling back to the 'python' engine because the 'c' engine does not support sep=None with delim_whitespace=False; you can avoid this warning by specifying engine='python'.\n",
      "  \n",
      "Exception ignored in: <bound method DMatrix.__del__ of <xgboost.core.DMatrix object at 0x1092bfa20>>\n",
      "Traceback (most recent call last):\n",
      "  File \"/Users/home/anaconda3/envs/py36/lib/python3.6/site-packages/xgboost/core.py\", line 482, in __del__\n",
      "    if self.handle is not None:\n",
      "AttributeError: 'DMatrix' object has no attribute 'handle'\n",
      "Exception ignored in: <bound method DMatrix.__del__ of <xgboost.core.DMatrix object at 0x109328198>>\n",
      "Traceback (most recent call last):\n",
      "  File \"/Users/home/anaconda3/envs/py36/lib/python3.6/site-packages/xgboost/core.py\", line 482, in __del__\n",
      "    if self.handle is not None:\n",
      "AttributeError: 'DMatrix' object has no attribute 'handle'\n"
     ]
    }
   ],
   "source": [
    "import pandas as pd\n",
    "from datetime import datetime\n",
    "import matplotlib.pyplot as plt\n",
    "import numpy as np\n",
    "\n",
    "df=pd.read_csv('clean_a-warhol_data.csv',sep=None)\n",
    "df=df.drop(columns=\"Unnamed: 0\")\n",
    "for i in df.index:\n",
    "    try:\n",
    "        df.loc[i,'hammer_price']=int(df.loc[i,'hammer_price'])\n",
    "    except:\n",
    "        df=df.drop(i)\n",
    "        continue\n",
    "    try:\n",
    "        df.loc[i,'year']=int(df.loc[i,'year'])\n",
    "    except:\n",
    "        df=df.drop(i)\n",
    "        continue\n",
    "    try:\n",
    "        df.loc[i,'size_dim1']=float(df.loc[i,'size_dim1'])\n",
    "    except:\n",
    "        df=df.drop(i)\n",
    "        continue"
   ]
  },
  {
   "cell_type": "code",
   "execution_count": 17,
   "metadata": {},
   "outputs": [],
   "source": [
    "# XGBoost preprocessing\n",
    "# REMOVING COLUMNS THAT XGBOOST CANNOT HANDLE\n",
    "df=df.drop(columns='title_piece')\n",
    "df=df.drop(columns='auction_date')\n",
    "\n",
    "# Splitting data\n",
    "X = df.drop(columns=\"hammer_price\")\n",
    "y = df['hammer_price']\n",
    "\n",
    "#ONE HOT ENCODING CATEGORICAL DATA\n",
    "X=pd.concat([X,pd.get_dummies(X['year'],prefix='year')],axis=1).drop(['year'],axis=1)\n",
    "X=pd.concat([X,pd.get_dummies(X['auction_name'],prefix='auction_name')],axis=1).drop(['auction_name'],axis=1)\n",
    "X=pd.concat([X,pd.get_dummies(X['auction_location'],prefix='auction_location')],axis=1).drop(['auction_location'],axis=1)\n",
    "X=pd.concat([X,pd.get_dummies(X['art_type'],prefix='art_type')],axis=1).drop(['art_type'],axis=1)\n",
    "X=pd.concat([X,pd.get_dummies(X['material1'],prefix='material1')],axis=1).drop(['material1'],axis=1)\n",
    "X=pd.concat([X,pd.get_dummies(X['material2'],prefix='material2')],axis=1).drop(['material2'],axis=1)\n",
    "X=pd.concat([X,pd.get_dummies(X['material3'],prefix='material3')],axis=1).drop(['material3'],axis=1)\n",
    "X=pd.concat([X,pd.get_dummies(X['size_dim1'],prefix='size_dim1')],axis=1).drop(['size_dim1'],axis=1)\n",
    "#X=pd.concat([X,pd.get_dummies(X['material4'],prefix='material4')],axis=1).drop(['material4'],axis=1)\n",
    "#df=pd.concat([df,pd.get_dummies(df['material5'],prefix='material5')],axis=1).drop(['material5'],axis=1)"
   ]
  },
  {
   "cell_type": "code",
   "execution_count": 20,
   "metadata": {},
   "outputs": [
    {
     "name": "stdout",
     "output_type": "stream",
     "text": [
      "200629774368.1239\n"
     ]
    }
   ],
   "source": [
    "#XGBOOST Training Model\n",
    "import xgboost as xgb\n",
    "from xgboost import XGBRegressor\n",
    "from sklearn.metrics import mean_squared_error\n",
    "from sklearn.model_selection import GridSearchCV, train_test_split\n",
    "\n",
    "# Splitting the dataset into the Training set and Test set\n",
    "X_train, X_test, y_train, y_test = train_test_split(X, y, test_size = 0.2, random_state = 0)# Fitting XGBoost to the Training set\n",
    "\n",
    "regressor = XGBRegressor()\n",
    "regressor.fit(X_train, y_train)\n",
    "\n",
    "# Predicting the Test set results\n",
    "y_pred = regressor.predict(X_test)\n",
    "print(mean_squared_error(y_test, y_pred))"
   ]
  },
  {
   "cell_type": "code",
   "execution_count": null,
   "metadata": {},
   "outputs": [
    {
     "name": "stdout",
     "output_type": "stream",
     "text": [
      "Parameter optimization\n",
      "Fitting 3 folds for each of 9 candidates, totalling 27 fits\n"
     ]
    }
   ],
   "source": [
    "# Hyperparameter optimization: Gridsearch\n",
    "print(\"Parameter optimization\")\n",
    "xgb_model = xgb.XGBRegressor()\n",
    "clf = GridSearchCV(xgb_model,\n",
    "                   {'max_depth': [2,3,4],\n",
    "                    'n_estimators': [80,100,150]}, verbose=1)\n",
    "clf.fit(X,y)\n",
    "print(clf.best_score_)\n",
    "print(clf.best_params_)"
   ]
  },
  {
   "cell_type": "code",
   "execution_count": null,
   "metadata": {},
   "outputs": [],
   "source": []
  },
  {
   "cell_type": "code",
   "execution_count": null,
   "metadata": {},
   "outputs": [],
   "source": []
  }
 ],
 "metadata": {
  "kernelspec": {
   "display_name": "Python 3",
   "language": "python",
   "name": "python3"
  },
  "language_info": {
   "codemirror_mode": {
    "name": "ipython",
    "version": 3
   },
   "file_extension": ".py",
   "mimetype": "text/x-python",
   "name": "python",
   "nbconvert_exporter": "python",
   "pygments_lexer": "ipython3",
   "version": "3.6.5"
  }
 },
 "nbformat": 4,
 "nbformat_minor": 2
}
